{
  "nbformat": 4,
  "nbformat_minor": 0,
  "metadata": {
    "colab": {
      "name": "StockPrediction.ipynb",
      "provenance": [],
      "authorship_tag": "ABX9TyOmcMh09WuNtjXLB0YK3n4T",
      "include_colab_link": true
    },
    "kernelspec": {
      "name": "python3",
      "display_name": "Python 3"
    },
    "language_info": {
      "name": "python"
    }
  },
  "cells": [
    {
      "cell_type": "markdown",
      "metadata": {
        "id": "view-in-github",
        "colab_type": "text"
      },
      "source": [
        "<a href=\"https://colab.research.google.com/github/Cyrill98/StockPrice_LSTM/blob/main/StockPrediction.ipynb\" target=\"_parent\"><img src=\"https://colab.research.google.com/assets/colab-badge.svg\" alt=\"Open In Colab\"/></a>"
      ]
    },
    {
      "cell_type": "code",
      "metadata": {
        "id": "K7Fj1aPaz_Hb"
      },
      "source": [
        "import pandas_datareader as pdr"
      ],
      "execution_count": 1,
      "outputs": []
    },
    {
      "cell_type": "code",
      "metadata": {
        "id": "ZDhv0SKD0IMl"
      },
      "source": [
        "import pandas as pd"
      ],
      "execution_count": 2,
      "outputs": []
    },
    {
      "cell_type": "code",
      "metadata": {
        "id": "2X1dJCYv0DEP"
      },
      "source": [
        "df = pdr.get_data_tiingo('AAPL', api_key='f4f355d85dfe60a6ed92ae48f506080f19b7b7ca')"
      ],
      "execution_count": 3,
      "outputs": []
    },
    {
      "cell_type": "code",
      "metadata": {
        "id": "FOzZ7WZ10E89"
      },
      "source": [
        "df.to_csv('APPLE.csv')"
      ],
      "execution_count": 4,
      "outputs": []
    },
    {
      "cell_type": "code",
      "metadata": {
        "id": "U0L1EVOs0KZe"
      },
      "source": [
        "df = pd.read_csv('APPLE.csv')"
      ],
      "execution_count": 5,
      "outputs": []
    },
    {
      "cell_type": "code",
      "metadata": {
        "colab": {
          "base_uri": "https://localhost:8080/",
          "height": 312
        },
        "id": "84rI6wdY0L-s",
        "outputId": "9b2426a4-0f2d-4a37-c09e-ac41ff91d8ac"
      },
      "source": [
        "df.head()"
      ],
      "execution_count": 6,
      "outputs": [
        {
          "output_type": "execute_result",
          "data": {
            "text/html": [
              "<div>\n",
              "<style scoped>\n",
              "    .dataframe tbody tr th:only-of-type {\n",
              "        vertical-align: middle;\n",
              "    }\n",
              "\n",
              "    .dataframe tbody tr th {\n",
              "        vertical-align: top;\n",
              "    }\n",
              "\n",
              "    .dataframe thead th {\n",
              "        text-align: right;\n",
              "    }\n",
              "</style>\n",
              "<table border=\"1\" class=\"dataframe\">\n",
              "  <thead>\n",
              "    <tr style=\"text-align: right;\">\n",
              "      <th></th>\n",
              "      <th>symbol</th>\n",
              "      <th>date</th>\n",
              "      <th>close</th>\n",
              "      <th>high</th>\n",
              "      <th>low</th>\n",
              "      <th>open</th>\n",
              "      <th>volume</th>\n",
              "      <th>adjClose</th>\n",
              "      <th>adjHigh</th>\n",
              "      <th>adjLow</th>\n",
              "      <th>adjOpen</th>\n",
              "      <th>adjVolume</th>\n",
              "      <th>divCash</th>\n",
              "      <th>splitFactor</th>\n",
              "    </tr>\n",
              "  </thead>\n",
              "  <tbody>\n",
              "    <tr>\n",
              "      <th>0</th>\n",
              "      <td>AAPL</td>\n",
              "      <td>2016-10-11 00:00:00+00:00</td>\n",
              "      <td>116.30</td>\n",
              "      <td>118.69</td>\n",
              "      <td>116.20</td>\n",
              "      <td>117.70</td>\n",
              "      <td>64041043</td>\n",
              "      <td>27.262788</td>\n",
              "      <td>27.823046</td>\n",
              "      <td>27.239346</td>\n",
              "      <td>27.590973</td>\n",
              "      <td>256164172</td>\n",
              "      <td>0.0</td>\n",
              "      <td>1.0</td>\n",
              "    </tr>\n",
              "    <tr>\n",
              "      <th>1</th>\n",
              "      <td>AAPL</td>\n",
              "      <td>2016-10-12 00:00:00+00:00</td>\n",
              "      <td>117.34</td>\n",
              "      <td>117.98</td>\n",
              "      <td>116.75</td>\n",
              "      <td>117.35</td>\n",
              "      <td>37586787</td>\n",
              "      <td>27.506582</td>\n",
              "      <td>27.656610</td>\n",
              "      <td>27.368276</td>\n",
              "      <td>27.508927</td>\n",
              "      <td>150347148</td>\n",
              "      <td>0.0</td>\n",
              "      <td>1.0</td>\n",
              "    </tr>\n",
              "    <tr>\n",
              "      <th>2</th>\n",
              "      <td>AAPL</td>\n",
              "      <td>2016-10-13 00:00:00+00:00</td>\n",
              "      <td>116.98</td>\n",
              "      <td>117.44</td>\n",
              "      <td>115.72</td>\n",
              "      <td>116.79</td>\n",
              "      <td>35192406</td>\n",
              "      <td>27.422192</td>\n",
              "      <td>27.530024</td>\n",
              "      <td>27.126826</td>\n",
              "      <td>27.377653</td>\n",
              "      <td>140769624</td>\n",
              "      <td>0.0</td>\n",
              "      <td>1.0</td>\n",
              "    </tr>\n",
              "    <tr>\n",
              "      <th>3</th>\n",
              "      <td>AAPL</td>\n",
              "      <td>2016-10-14 00:00:00+00:00</td>\n",
              "      <td>117.63</td>\n",
              "      <td>118.17</td>\n",
              "      <td>117.13</td>\n",
              "      <td>117.88</td>\n",
              "      <td>35652191</td>\n",
              "      <td>27.574564</td>\n",
              "      <td>27.701149</td>\n",
              "      <td>27.457355</td>\n",
              "      <td>27.633168</td>\n",
              "      <td>142608764</td>\n",
              "      <td>0.0</td>\n",
              "      <td>1.0</td>\n",
              "    </tr>\n",
              "    <tr>\n",
              "      <th>4</th>\n",
              "      <td>AAPL</td>\n",
              "      <td>2016-10-17 00:00:00+00:00</td>\n",
              "      <td>117.55</td>\n",
              "      <td>117.84</td>\n",
              "      <td>116.78</td>\n",
              "      <td>117.33</td>\n",
              "      <td>23624896</td>\n",
              "      <td>27.555810</td>\n",
              "      <td>27.623791</td>\n",
              "      <td>27.375309</td>\n",
              "      <td>27.504238</td>\n",
              "      <td>94499584</td>\n",
              "      <td>0.0</td>\n",
              "      <td>1.0</td>\n",
              "    </tr>\n",
              "  </tbody>\n",
              "</table>\n",
              "</div>"
            ],
            "text/plain": [
              "  symbol                       date   close  ...  adjVolume  divCash  splitFactor\n",
              "0   AAPL  2016-10-11 00:00:00+00:00  116.30  ...  256164172      0.0          1.0\n",
              "1   AAPL  2016-10-12 00:00:00+00:00  117.34  ...  150347148      0.0          1.0\n",
              "2   AAPL  2016-10-13 00:00:00+00:00  116.98  ...  140769624      0.0          1.0\n",
              "3   AAPL  2016-10-14 00:00:00+00:00  117.63  ...  142608764      0.0          1.0\n",
              "4   AAPL  2016-10-17 00:00:00+00:00  117.55  ...   94499584      0.0          1.0\n",
              "\n",
              "[5 rows x 14 columns]"
            ]
          },
          "metadata": {},
          "execution_count": 6
        }
      ]
    },
    {
      "cell_type": "code",
      "metadata": {
        "colab": {
          "base_uri": "https://localhost:8080/",
          "height": 312
        },
        "id": "cJZqz3_w0Qo_",
        "outputId": "1301275f-fc8d-4cd4-e289-f31f2807e368"
      },
      "source": [
        "df.tail()"
      ],
      "execution_count": 7,
      "outputs": [
        {
          "output_type": "execute_result",
          "data": {
            "text/html": [
              "<div>\n",
              "<style scoped>\n",
              "    .dataframe tbody tr th:only-of-type {\n",
              "        vertical-align: middle;\n",
              "    }\n",
              "\n",
              "    .dataframe tbody tr th {\n",
              "        vertical-align: top;\n",
              "    }\n",
              "\n",
              "    .dataframe thead th {\n",
              "        text-align: right;\n",
              "    }\n",
              "</style>\n",
              "<table border=\"1\" class=\"dataframe\">\n",
              "  <thead>\n",
              "    <tr style=\"text-align: right;\">\n",
              "      <th></th>\n",
              "      <th>symbol</th>\n",
              "      <th>date</th>\n",
              "      <th>close</th>\n",
              "      <th>high</th>\n",
              "      <th>low</th>\n",
              "      <th>open</th>\n",
              "      <th>volume</th>\n",
              "      <th>adjClose</th>\n",
              "      <th>adjHigh</th>\n",
              "      <th>adjLow</th>\n",
              "      <th>adjOpen</th>\n",
              "      <th>adjVolume</th>\n",
              "      <th>divCash</th>\n",
              "      <th>splitFactor</th>\n",
              "    </tr>\n",
              "  </thead>\n",
              "  <tbody>\n",
              "    <tr>\n",
              "      <th>1253</th>\n",
              "      <td>AAPL</td>\n",
              "      <td>2021-10-04 00:00:00+00:00</td>\n",
              "      <td>139.14</td>\n",
              "      <td>142.2100</td>\n",
              "      <td>138.27</td>\n",
              "      <td>141.76</td>\n",
              "      <td>98322008</td>\n",
              "      <td>139.14</td>\n",
              "      <td>142.2100</td>\n",
              "      <td>138.27</td>\n",
              "      <td>141.76</td>\n",
              "      <td>98322008</td>\n",
              "      <td>0.0</td>\n",
              "      <td>1.0</td>\n",
              "    </tr>\n",
              "    <tr>\n",
              "      <th>1254</th>\n",
              "      <td>AAPL</td>\n",
              "      <td>2021-10-05 00:00:00+00:00</td>\n",
              "      <td>141.11</td>\n",
              "      <td>142.2400</td>\n",
              "      <td>139.36</td>\n",
              "      <td>139.49</td>\n",
              "      <td>80861062</td>\n",
              "      <td>141.11</td>\n",
              "      <td>142.2400</td>\n",
              "      <td>139.36</td>\n",
              "      <td>139.49</td>\n",
              "      <td>80861062</td>\n",
              "      <td>0.0</td>\n",
              "      <td>1.0</td>\n",
              "    </tr>\n",
              "    <tr>\n",
              "      <th>1255</th>\n",
              "      <td>AAPL</td>\n",
              "      <td>2021-10-06 00:00:00+00:00</td>\n",
              "      <td>142.00</td>\n",
              "      <td>142.1500</td>\n",
              "      <td>138.37</td>\n",
              "      <td>139.47</td>\n",
              "      <td>83221119</td>\n",
              "      <td>142.00</td>\n",
              "      <td>142.1500</td>\n",
              "      <td>138.37</td>\n",
              "      <td>139.47</td>\n",
              "      <td>83221119</td>\n",
              "      <td>0.0</td>\n",
              "      <td>1.0</td>\n",
              "    </tr>\n",
              "    <tr>\n",
              "      <th>1256</th>\n",
              "      <td>AAPL</td>\n",
              "      <td>2021-10-07 00:00:00+00:00</td>\n",
              "      <td>143.29</td>\n",
              "      <td>144.2150</td>\n",
              "      <td>142.72</td>\n",
              "      <td>143.06</td>\n",
              "      <td>61732656</td>\n",
              "      <td>143.29</td>\n",
              "      <td>144.2150</td>\n",
              "      <td>142.72</td>\n",
              "      <td>143.06</td>\n",
              "      <td>61732656</td>\n",
              "      <td>0.0</td>\n",
              "      <td>1.0</td>\n",
              "    </tr>\n",
              "    <tr>\n",
              "      <th>1257</th>\n",
              "      <td>AAPL</td>\n",
              "      <td>2021-10-08 00:00:00+00:00</td>\n",
              "      <td>142.90</td>\n",
              "      <td>144.1781</td>\n",
              "      <td>142.56</td>\n",
              "      <td>144.03</td>\n",
              "      <td>58773155</td>\n",
              "      <td>142.90</td>\n",
              "      <td>144.1781</td>\n",
              "      <td>142.56</td>\n",
              "      <td>144.03</td>\n",
              "      <td>58773155</td>\n",
              "      <td>0.0</td>\n",
              "      <td>1.0</td>\n",
              "    </tr>\n",
              "  </tbody>\n",
              "</table>\n",
              "</div>"
            ],
            "text/plain": [
              "     symbol                       date   close  ...  adjVolume  divCash  splitFactor\n",
              "1253   AAPL  2021-10-04 00:00:00+00:00  139.14  ...   98322008      0.0          1.0\n",
              "1254   AAPL  2021-10-05 00:00:00+00:00  141.11  ...   80861062      0.0          1.0\n",
              "1255   AAPL  2021-10-06 00:00:00+00:00  142.00  ...   83221119      0.0          1.0\n",
              "1256   AAPL  2021-10-07 00:00:00+00:00  143.29  ...   61732656      0.0          1.0\n",
              "1257   AAPL  2021-10-08 00:00:00+00:00  142.90  ...   58773155      0.0          1.0\n",
              "\n",
              "[5 rows x 14 columns]"
            ]
          },
          "metadata": {},
          "execution_count": 7
        }
      ]
    },
    {
      "cell_type": "code",
      "metadata": {
        "id": "fZgFXw2f0TRs"
      },
      "source": [
        "df1 = df.reset_index()['close']"
      ],
      "execution_count": 8,
      "outputs": []
    },
    {
      "cell_type": "code",
      "metadata": {
        "colab": {
          "base_uri": "https://localhost:8080/"
        },
        "id": "8UkxSRNP0VPU",
        "outputId": "0c6e1cc0-7164-409d-cb61-b599680ef28d"
      },
      "source": [
        "df1.shape"
      ],
      "execution_count": 9,
      "outputs": [
        {
          "output_type": "execute_result",
          "data": {
            "text/plain": [
              "(1258,)"
            ]
          },
          "metadata": {},
          "execution_count": 9
        }
      ]
    },
    {
      "cell_type": "code",
      "metadata": {
        "colab": {
          "base_uri": "https://localhost:8080/",
          "height": 283
        },
        "id": "C1QmejZD0W31",
        "outputId": "16175d40-e8a3-4191-b8d9-dd3fa4221ea4"
      },
      "source": [
        "import matplotlib.pyplot as plt\n",
        "\n",
        "plt.plot(df1)"
      ],
      "execution_count": 10,
      "outputs": [
        {
          "output_type": "execute_result",
          "data": {
            "text/plain": [
              "[<matplotlib.lines.Line2D at 0x7f052deb5d50>]"
            ]
          },
          "metadata": {},
          "execution_count": 10
        },
        {
          "output_type": "display_data",
          "data": {
            "image/png": "[encoded data removed]",
            "text/plain": [
              "<Figure size 432x288 with 1 Axes>"
            ]
          },
          "metadata": {
            "needs_background": "light"
          }
        }
      ]
    },
    {
      "cell_type": "code",
      "metadata": {
        "id": "9pNnrt9g0ZMf"
      },
      "source": [
        "import numpy as np"
      ],
      "execution_count": 11,
      "outputs": []
    },
    {
      "cell_type": "code",
      "metadata": {
        "id": "mfJkQz0N0g0F"
      },
      "source": [
        "from sklearn.preprocessing import MinMaxScaler\n",
        "\n",
        "scaler = MinMaxScaler(feature_range=(0,1))\n",
        "df1 = scaler.fit_transform(np.array(df1).reshape(-1,1))"
      ],
      "execution_count": 12,
      "outputs": []
    },
    {
      "cell_type": "code",
      "metadata": {
        "colab": {
          "base_uri": "https://localhost:8080/"
        },
        "id": "tVEjCvPN0inl",
        "outputId": "607481a8-9453-4855-8c76-af77105426e6"
      },
      "source": [
        "df1"
      ],
      "execution_count": 13,
      "outputs": [
        {
          "output_type": "execute_result",
          "data": {
            "text/plain": [
              "array([[0.02644987],\n",
              "       [0.0290474 ],\n",
              "       [0.02814826],\n",
              "       ...,\n",
              "       [0.09063889],\n",
              "       [0.09386083],\n",
              "       [0.09288676]])"
            ]
          },
          "metadata": {},
          "execution_count": 13
        }
      ]
    },
    {
      "cell_type": "code",
      "metadata": {
        "id": "aSBJW6Bq0kYd"
      },
      "source": [
        "train_size = int(len(df1)*0.65) #train size will be 65%\n",
        "test_size = len(df1) - train_size #test size will be 35%\n",
        "train_data, test_data = df1[0:train_size,:], df1[train_size:len(df1),:1]"
      ],
      "execution_count": 14,
      "outputs": []
    },
    {
      "cell_type": "code",
      "metadata": {
        "colab": {
          "base_uri": "https://localhost:8080/"
        },
        "id": "MkqjV3av0mjV",
        "outputId": "c775c433-be73-4071-a18b-7ad6a18ca880"
      },
      "source": [
        "train_size, test_size"
      ],
      "execution_count": 15,
      "outputs": [
        {
          "output_type": "execute_result",
          "data": {
            "text/plain": [
              "(817, 441)"
            ]
          },
          "metadata": {},
          "execution_count": 15
        }
      ]
    },
    {
      "cell_type": "code",
      "metadata": {
        "colab": {
          "base_uri": "https://localhost:8080/"
        },
        "id": "nE10fy050oNV",
        "outputId": "af650fc7-86cd-4303-c09c-59ecb503db08"
      },
      "source": [
        "len(train_data), len(test_data)"
      ],
      "execution_count": 16,
      "outputs": [
        {
          "output_type": "execute_result",
          "data": {
            "text/plain": [
              "(817, 441)"
            ]
          },
          "metadata": {},
          "execution_count": 16
        }
      ]
    },
    {
      "cell_type": "code",
      "metadata": {
        "id": "ddt_DHWE0pqk"
      },
      "source": [
        "import numpy\n",
        "# Convert an array of values into dataset matrix\n",
        "def create_dataset(dataset, time_step=1):\n",
        "    dataX, dataY = [], []\n",
        "    for i in range(len(dataset)-time_step-1):\n",
        "        a = dataset[i:(i+time_step), 0]\n",
        "        dataX.append(a)\n",
        "        dataY.append(dataset[i + time_step, 0])\n",
        "    return numpy.array(dataX), numpy.array(dataY)"
      ],
      "execution_count": 17,
      "outputs": []
    },
    {
      "cell_type": "code",
      "metadata": {
        "id": "E1nXJ0_u0rMA"
      },
      "source": [
        "# Reshape unto x=t, t+1, t+2, t+3 and y=t+4\n",
        "\n",
        "time_step = 100\n",
        "X_train, y_train = create_dataset(train_data, time_step)\n",
        "X_test, y_test = create_dataset(test_data, time_step)"
      ],
      "execution_count": 18,
      "outputs": []
    },
    {
      "cell_type": "code",
      "metadata": {
        "colab": {
          "base_uri": "https://localhost:8080/"
        },
        "id": "OThwnARX0tC0",
        "outputId": "2affecaf-c137-41d9-e829-49347018dc7e"
      },
      "source": [
        "print(X_train.shape), print(y_train.shape)"
      ],
      "execution_count": 19,
      "outputs": [
        {
          "output_type": "stream",
          "name": "stdout",
          "text": [
            "(716, 100)\n",
            "(716,)\n"
          ]
        },
        {
          "output_type": "execute_result",
          "data": {
            "text/plain": [
              "(None, None)"
            ]
          },
          "metadata": {},
          "execution_count": 19
        }
      ]
    },
    {
      "cell_type": "code",
      "metadata": {
        "colab": {
          "base_uri": "https://localhost:8080/"
        },
        "id": "fXMMsX9O0uqE",
        "outputId": "62c60424-2fa4-457a-b7ff-e7d6d36cdb74"
      },
      "source": [
        "print(X_test.shape), print(y_test.shape)"
      ],
      "execution_count": 20,
      "outputs": [
        {
          "output_type": "stream",
          "name": "stdout",
          "text": [
            "(340, 100)\n",
            "(340,)\n"
          ]
        },
        {
          "output_type": "execute_result",
          "data": {
            "text/plain": [
              "(None, None)"
            ]
          },
          "metadata": {},
          "execution_count": 20
        }
      ]
    },
    {
      "cell_type": "code",
      "metadata": {
        "id": "T3T8y5Fy0whw"
      },
      "source": [
        "X_train = X_train.reshape(X_train.shape[0], X_train.shape[1], 1)\n",
        "X_test = X_test.reshape(X_test.shape[0], X_test.shape[1], 1)"
      ],
      "execution_count": 21,
      "outputs": []
    },
    {
      "cell_type": "code",
      "metadata": {
        "id": "KrGj7ga-0yQk"
      },
      "source": [
        "from tensorflow.keras.models import Sequential\n",
        "from tensorflow.keras.layers import Dense\n",
        "from tensorflow.keras.layers import LSTM"
      ],
      "execution_count": 22,
      "outputs": []
    },
    {
      "cell_type": "code",
      "metadata": {
        "id": "V52Oduxa00Ec"
      },
      "source": [
        "model = Sequential()\n",
        "model.add(LSTM(50, return_sequences = True, input_shape = (100, 1)))\n",
        "model.add(LSTM(50, return_sequences = True))\n",
        "model.add(LSTM(50))\n",
        "model.add(Dense(1))\n",
        "model.compile(loss = 'mean_squared_error', optimizer = 'adam')"
      ],
      "execution_count": 23,
      "outputs": []
    },
    {
      "cell_type": "code",
      "metadata": {
        "colab": {
          "base_uri": "https://localhost:8080/"
        },
        "id": "LIHHjZxK02Ps",
        "outputId": "083e6877-31f7-4a60-f9bb-23918d7ef0fa"
      },
      "source": [
        "model.summary()"
      ],
      "execution_count": 24,
      "outputs": [
        {
          "output_type": "stream",
          "name": "stdout",
          "text": [
            "Model: \"sequential\"\n",
            "_________________________________________________________________\n",
            "Layer (type)                 Output Shape              Param #   \n",
            "=================================================================\n",
            "lstm (LSTM)                  (None, 100, 50)           10400     \n",
            "_________________________________________________________________\n",
            "lstm_1 (LSTM)                (None, 100, 50)           20200     \n",
            "_________________________________________________________________\n",
            "lstm_2 (LSTM)                (None, 50)                20200     \n",
            "_________________________________________________________________\n",
            "dense (Dense)                (None, 1)                 51        \n",
            "=================================================================\n",
            "Total params: 50,851\n",
            "Trainable params: 50,851\n",
            "Non-trainable params: 0\n",
            "_________________________________________________________________\n"
          ]
        }
      ]
    },
    {
      "cell_type": "code",
      "metadata": {
        "colab": {
          "base_uri": "https://localhost:8080/"
        },
        "id": "ci-iCPAi04jc",
        "outputId": "d513207e-645c-40ad-bfc5-3d6f45831fd4"
      },
      "source": [
        "model.fit(X_train, y_train, validation_data=(X_test, y_test), epochs= 100, batch_size = 64, verbose = 1)"
      ],
      "execution_count": 25,
      "outputs": [
        {
          "output_type": "stream",
          "name": "stdout",
          "text": [
            "Epoch 1/100\n",
            "12/12 [==============================] - 8s 295ms/step - loss: 0.0125 - val_loss: 0.0287\n",
            "Epoch 2/100\n",
            "12/12 [==============================] - 2s 175ms/step - loss: 0.0029 - val_loss: 0.0230\n",
            "Epoch 3/100\n",
            "12/12 [==============================] - 2s 176ms/step - loss: 0.0014 - val_loss: 0.0191\n",
            "Epoch 4/100\n",
            "12/12 [==============================] - 2s 178ms/step - loss: 7.3041e-04 - val_loss: 0.0211\n",
            "Epoch 5/100\n",
            "12/12 [==============================] - 2s 177ms/step - loss: 4.9058e-04 - val_loss: 0.0218\n",
            "Epoch 6/100\n",
            "12/12 [==============================] - 2s 176ms/step - loss: 4.4971e-04 - val_loss: 0.0204\n",
            "Epoch 7/100\n",
            "12/12 [==============================] - 2s 179ms/step - loss: 4.3386e-04 - val_loss: 0.0206\n",
            "Epoch 8/100\n",
            "12/12 [==============================] - 2s 175ms/step - loss: 3.9280e-04 - val_loss: 0.0221\n",
            "Epoch 9/100\n",
            "12/12 [==============================] - 2s 177ms/step - loss: 3.7806e-04 - val_loss: 0.0214\n",
            "Epoch 10/100\n",
            "12/12 [==============================] - 2s 177ms/step - loss: 3.7691e-04 - val_loss: 0.0226\n",
            "Epoch 11/100\n",
            "12/12 [==============================] - 2s 177ms/step - loss: 3.9090e-04 - val_loss: 0.0204\n",
            "Epoch 12/100\n",
            "12/12 [==============================] - 2s 176ms/step - loss: 3.6576e-04 - val_loss: 0.0197\n",
            "Epoch 13/100\n",
            "12/12 [==============================] - 2s 176ms/step - loss: 3.4410e-04 - val_loss: 0.0202\n",
            "Epoch 14/100\n",
            "12/12 [==============================] - 2s 178ms/step - loss: 3.2972e-04 - val_loss: 0.0186\n",
            "Epoch 15/100\n",
            "12/12 [==============================] - 2s 178ms/step - loss: 3.7382e-04 - val_loss: 0.0183\n",
            "Epoch 16/100\n",
            "12/12 [==============================] - 2s 178ms/step - loss: 3.6093e-04 - val_loss: 0.0203\n",
            "Epoch 17/100\n",
            "12/12 [==============================] - 2s 181ms/step - loss: 2.9702e-04 - val_loss: 0.0202\n",
            "Epoch 18/100\n",
            "12/12 [==============================] - 2s 180ms/step - loss: 2.8735e-04 - val_loss: 0.0208\n",
            "Epoch 19/100\n",
            "12/12 [==============================] - 2s 178ms/step - loss: 3.1745e-04 - val_loss: 0.0183\n",
            "Epoch 20/100\n",
            "12/12 [==============================] - 2s 179ms/step - loss: 2.7127e-04 - val_loss: 0.0185\n",
            "Epoch 21/100\n",
            "12/12 [==============================] - 2s 179ms/step - loss: 2.7013e-04 - val_loss: 0.0183\n",
            "Epoch 22/100\n",
            "12/12 [==============================] - 2s 180ms/step - loss: 2.6635e-04 - val_loss: 0.0196\n",
            "Epoch 23/100\n",
            "12/12 [==============================] - 2s 177ms/step - loss: 2.6916e-04 - val_loss: 0.0191\n",
            "Epoch 24/100\n",
            "12/12 [==============================] - 2s 180ms/step - loss: 2.8190e-04 - val_loss: 0.0151\n",
            "Epoch 25/100\n",
            "12/12 [==============================] - 2s 180ms/step - loss: 3.2019e-04 - val_loss: 0.0209\n",
            "Epoch 26/100\n",
            "12/12 [==============================] - 2s 186ms/step - loss: 3.0715e-04 - val_loss: 0.0159\n",
            "Epoch 27/100\n",
            "12/12 [==============================] - 2s 181ms/step - loss: 2.8545e-04 - val_loss: 0.0189\n",
            "Epoch 28/100\n",
            "12/12 [==============================] - 2s 179ms/step - loss: 2.5909e-04 - val_loss: 0.0161\n",
            "Epoch 29/100\n",
            "12/12 [==============================] - 2s 183ms/step - loss: 2.4476e-04 - val_loss: 0.0174\n",
            "Epoch 30/100\n",
            "12/12 [==============================] - 2s 183ms/step - loss: 2.6045e-04 - val_loss: 0.0163\n",
            "Epoch 31/100\n",
            "12/12 [==============================] - 2s 184ms/step - loss: 2.6146e-04 - val_loss: 0.0169\n",
            "Epoch 32/100\n",
            "12/12 [==============================] - 2s 184ms/step - loss: 2.3765e-04 - val_loss: 0.0166\n",
            "Epoch 33/100\n",
            "12/12 [==============================] - 2s 181ms/step - loss: 2.3603e-04 - val_loss: 0.0154\n",
            "Epoch 34/100\n",
            "12/12 [==============================] - 2s 184ms/step - loss: 2.4257e-04 - val_loss: 0.0174\n",
            "Epoch 35/100\n",
            "12/12 [==============================] - 2s 184ms/step - loss: 2.2841e-04 - val_loss: 0.0147\n",
            "Epoch 36/100\n",
            "12/12 [==============================] - 2s 182ms/step - loss: 2.3197e-04 - val_loss: 0.0150\n",
            "Epoch 37/100\n",
            "12/12 [==============================] - 2s 181ms/step - loss: 2.1753e-04 - val_loss: 0.0144\n",
            "Epoch 38/100\n",
            "12/12 [==============================] - 2s 184ms/step - loss: 2.1575e-04 - val_loss: 0.0149\n",
            "Epoch 39/100\n",
            "12/12 [==============================] - 2s 183ms/step - loss: 2.1923e-04 - val_loss: 0.0142\n",
            "Epoch 40/100\n",
            "12/12 [==============================] - 2s 181ms/step - loss: 2.1888e-04 - val_loss: 0.0143\n",
            "Epoch 41/100\n",
            "12/12 [==============================] - 2s 191ms/step - loss: 2.1065e-04 - val_loss: 0.0156\n",
            "Epoch 42/100\n",
            "12/12 [==============================] - 2s 183ms/step - loss: 2.5044e-04 - val_loss: 0.0130\n",
            "Epoch 43/100\n",
            "12/12 [==============================] - 2s 189ms/step - loss: 2.4587e-04 - val_loss: 0.0123\n",
            "Epoch 44/100\n",
            "12/12 [==============================] - 2s 185ms/step - loss: 2.3782e-04 - val_loss: 0.0139\n",
            "Epoch 45/100\n",
            "12/12 [==============================] - 2s 187ms/step - loss: 2.0170e-04 - val_loss: 0.0132\n",
            "Epoch 46/100\n",
            "12/12 [==============================] - 2s 182ms/step - loss: 1.9977e-04 - val_loss: 0.0121\n",
            "Epoch 47/100\n",
            "12/12 [==============================] - 2s 186ms/step - loss: 2.0891e-04 - val_loss: 0.0140\n",
            "Epoch 48/100\n",
            "12/12 [==============================] - 2s 185ms/step - loss: 2.2664e-04 - val_loss: 0.0126\n",
            "Epoch 49/100\n",
            "12/12 [==============================] - 2s 187ms/step - loss: 2.4229e-04 - val_loss: 0.0106\n",
            "Epoch 50/100\n",
            "12/12 [==============================] - 2s 182ms/step - loss: 2.1985e-04 - val_loss: 0.0138\n",
            "Epoch 51/100\n",
            "12/12 [==============================] - 2s 185ms/step - loss: 2.2890e-04 - val_loss: 0.0101\n",
            "Epoch 52/100\n",
            "12/12 [==============================] - 2s 190ms/step - loss: 2.3167e-04 - val_loss: 0.0125\n",
            "Epoch 53/100\n",
            "12/12 [==============================] - 2s 188ms/step - loss: 1.9123e-04 - val_loss: 0.0113\n",
            "Epoch 54/100\n",
            "12/12 [==============================] - 2s 190ms/step - loss: 1.9354e-04 - val_loss: 0.0112\n",
            "Epoch 55/100\n",
            "12/12 [==============================] - 2s 190ms/step - loss: 1.9954e-04 - val_loss: 0.0109\n",
            "Epoch 56/100\n",
            "12/12 [==============================] - 2s 186ms/step - loss: 1.8234e-04 - val_loss: 0.0116\n",
            "Epoch 57/100\n",
            "12/12 [==============================] - 2s 189ms/step - loss: 1.8057e-04 - val_loss: 0.0111\n",
            "Epoch 58/100\n",
            "12/12 [==============================] - 2s 183ms/step - loss: 1.8212e-04 - val_loss: 0.0105\n",
            "Epoch 59/100\n",
            "12/12 [==============================] - 2s 184ms/step - loss: 1.7957e-04 - val_loss: 0.0105\n",
            "Epoch 60/100\n",
            "12/12 [==============================] - 2s 181ms/step - loss: 1.8623e-04 - val_loss: 0.0114\n",
            "Epoch 61/100\n",
            "12/12 [==============================] - 2s 183ms/step - loss: 1.7562e-04 - val_loss: 0.0096\n",
            "Epoch 62/100\n",
            "12/12 [==============================] - 2s 183ms/step - loss: 1.9790e-04 - val_loss: 0.0110\n",
            "Epoch 63/100\n",
            "12/12 [==============================] - 2s 182ms/step - loss: 1.7729e-04 - val_loss: 0.0093\n",
            "Epoch 64/100\n",
            "12/12 [==============================] - 2s 184ms/step - loss: 1.7792e-04 - val_loss: 0.0099\n",
            "Epoch 65/100\n",
            "12/12 [==============================] - 2s 184ms/step - loss: 1.7406e-04 - val_loss: 0.0100\n",
            "Epoch 66/100\n",
            "12/12 [==============================] - 2s 182ms/step - loss: 1.7037e-04 - val_loss: 0.0088\n",
            "Epoch 67/100\n",
            "12/12 [==============================] - 2s 189ms/step - loss: 1.6105e-04 - val_loss: 0.0098\n",
            "Epoch 68/100\n",
            "12/12 [==============================] - 2s 183ms/step - loss: 1.7527e-04 - val_loss: 0.0082\n",
            "Epoch 69/100\n",
            "12/12 [==============================] - 2s 184ms/step - loss: 1.7898e-04 - val_loss: 0.0102\n",
            "Epoch 70/100\n",
            "12/12 [==============================] - 2s 185ms/step - loss: 1.8171e-04 - val_loss: 0.0091\n",
            "Epoch 71/100\n",
            "12/12 [==============================] - 2s 188ms/step - loss: 1.6373e-04 - val_loss: 0.0083\n",
            "Epoch 72/100\n",
            "12/12 [==============================] - 2s 186ms/step - loss: 1.5206e-04 - val_loss: 0.0087\n",
            "Epoch 73/100\n",
            "12/12 [==============================] - 2s 182ms/step - loss: 1.6771e-04 - val_loss: 0.0078\n",
            "Epoch 74/100\n",
            "12/12 [==============================] - 2s 183ms/step - loss: 1.5603e-04 - val_loss: 0.0077\n",
            "Epoch 75/100\n",
            "12/12 [==============================] - 2s 184ms/step - loss: 1.5171e-04 - val_loss: 0.0076\n",
            "Epoch 76/100\n",
            "12/12 [==============================] - 2s 183ms/step - loss: 1.5463e-04 - val_loss: 0.0084\n",
            "Epoch 77/100\n",
            "12/12 [==============================] - 2s 184ms/step - loss: 1.8008e-04 - val_loss: 0.0071\n",
            "Epoch 78/100\n",
            "12/12 [==============================] - 2s 181ms/step - loss: 1.5523e-04 - val_loss: 0.0069\n",
            "Epoch 79/100\n",
            "12/12 [==============================] - 2s 184ms/step - loss: 1.5601e-04 - val_loss: 0.0075\n",
            "Epoch 80/100\n",
            "12/12 [==============================] - 2s 184ms/step - loss: 1.4855e-04 - val_loss: 0.0070\n",
            "Epoch 81/100\n",
            "12/12 [==============================] - 2s 184ms/step - loss: 1.4742e-04 - val_loss: 0.0073\n",
            "Epoch 82/100\n",
            "12/12 [==============================] - 2s 181ms/step - loss: 1.4904e-04 - val_loss: 0.0065\n",
            "Epoch 83/100\n",
            "12/12 [==============================] - 2s 183ms/step - loss: 1.5102e-04 - val_loss: 0.0064\n",
            "Epoch 84/100\n",
            "12/12 [==============================] - 2s 184ms/step - loss: 1.5272e-04 - val_loss: 0.0071\n",
            "Epoch 85/100\n",
            "12/12 [==============================] - 2s 183ms/step - loss: 1.4234e-04 - val_loss: 0.0067\n",
            "Epoch 86/100\n",
            "12/12 [==============================] - 2s 185ms/step - loss: 1.4338e-04 - val_loss: 0.0064\n",
            "Epoch 87/100\n",
            "12/12 [==============================] - 2s 181ms/step - loss: 1.4167e-04 - val_loss: 0.0064\n",
            "Epoch 88/100\n",
            "12/12 [==============================] - 2s 182ms/step - loss: 1.3766e-04 - val_loss: 0.0061\n",
            "Epoch 89/100\n",
            "12/12 [==============================] - 2s 181ms/step - loss: 1.4709e-04 - val_loss: 0.0057\n",
            "Epoch 90/100\n",
            "12/12 [==============================] - 2s 180ms/step - loss: 1.4028e-04 - val_loss: 0.0066\n",
            "Epoch 91/100\n",
            "12/12 [==============================] - 2s 182ms/step - loss: 1.5357e-04 - val_loss: 0.0057\n",
            "Epoch 92/100\n",
            "12/12 [==============================] - 2s 182ms/step - loss: 1.3536e-04 - val_loss: 0.0056\n",
            "Epoch 93/100\n",
            "12/12 [==============================] - 2s 179ms/step - loss: 1.2797e-04 - val_loss: 0.0065\n",
            "Epoch 94/100\n",
            "12/12 [==============================] - 2s 183ms/step - loss: 1.4724e-04 - val_loss: 0.0057\n",
            "Epoch 95/100\n",
            "12/12 [==============================] - 2s 180ms/step - loss: 1.3262e-04 - val_loss: 0.0055\n",
            "Epoch 96/100\n",
            "12/12 [==============================] - 2s 181ms/step - loss: 1.2456e-04 - val_loss: 0.0056\n",
            "Epoch 97/100\n",
            "12/12 [==============================] - 2s 181ms/step - loss: 1.2253e-04 - val_loss: 0.0054\n",
            "Epoch 98/100\n",
            "12/12 [==============================] - 2s 180ms/step - loss: 1.2684e-04 - val_loss: 0.0057\n",
            "Epoch 99/100\n",
            "12/12 [==============================] - 2s 181ms/step - loss: 1.1769e-04 - val_loss: 0.0059\n",
            "Epoch 100/100\n",
            "12/12 [==============================] - 2s 181ms/step - loss: 1.3309e-04 - val_loss: 0.0057\n"
          ]
        },
        {
          "output_type": "execute_result",
          "data": {
            "text/plain": [
              "<keras.callbacks.History at 0x7f04cfaf3610>"
            ]
          },
          "metadata": {},
          "execution_count": 25
        }
      ]
    },
    {
      "cell_type": "code",
      "metadata": {
        "id": "bF0z3llY1GIV"
      },
      "source": [
        "import tensorflow as tf"
      ],
      "execution_count": 26,
      "outputs": []
    },
    {
      "cell_type": "code",
      "metadata": {
        "colab": {
          "base_uri": "https://localhost:8080/",
          "height": 35
        },
        "id": "qK1wmwbl2LM4",
        "outputId": "d2ebf3e0-8ad8-46f5-a338-cee3c7b25165"
      },
      "source": [
        "tf.__version__"
      ],
      "execution_count": 27,
      "outputs": [
        {
          "output_type": "execute_result",
          "data": {
            "application/vnd.google.colaboratory.intrinsic+json": {
              "type": "string"
            },
            "text/plain": [
              "'2.6.0'"
            ]
          },
          "metadata": {},
          "execution_count": 27
        }
      ]
    },
    {
      "cell_type": "code",
      "metadata": {
        "id": "QeraVVdA2PLT"
      },
      "source": [
        "train_predict = model.predict(X_train)\n",
        "test_predict = model.predict(X_test)"
      ],
      "execution_count": 28,
      "outputs": []
    },
    {
      "cell_type": "code",
      "metadata": {
        "id": "TFIDSRZf2U2l"
      },
      "source": [
        "train_predict = scaler.inverse_transform(train_predict)\n",
        "test_predict = scaler.inverse_transform(test_predict)"
      ],
      "execution_count": 29,
      "outputs": []
    },
    {
      "cell_type": "code",
      "metadata": {
        "colab": {
          "base_uri": "https://localhost:8080/"
        },
        "id": "u5mENTqh2cCF",
        "outputId": "cb2ce5d7-4983-4151-d4d3-87ee34646e53"
      },
      "source": [
        "import math\n",
        "from sklearn.metrics import mean_squared_error\n",
        "math.sqrt(mean_squared_error(y_train, train_predict))"
      ],
      "execution_count": 30,
      "outputs": [
        {
          "output_type": "execute_result",
          "data": {
            "text/plain": [
              "191.97510207255934"
            ]
          },
          "metadata": {},
          "execution_count": 30
        }
      ]
    },
    {
      "cell_type": "code",
      "metadata": {
        "colab": {
          "base_uri": "https://localhost:8080/"
        },
        "id": "1HXbkSDt2f7c",
        "outputId": "721f358b-50e7-4950-fb51-f84983a9850f"
      },
      "source": [
        "math.sqrt(mean_squared_error(y_test, test_predict))"
      ],
      "execution_count": 31,
      "outputs": [
        {
          "output_type": "execute_result",
          "data": {
            "text/plain": [
              "215.11798614902943"
            ]
          },
          "metadata": {},
          "execution_count": 31
        }
      ]
    },
    {
      "cell_type": "code",
      "metadata": {
        "colab": {
          "base_uri": "https://localhost:8080/",
          "height": 265
        },
        "id": "hBb-k9JB2q2c",
        "outputId": "68caee65-ae9a-4780-e08f-16ec3fab0cf7"
      },
      "source": [
        "\n",
        "### Plotting \n",
        "# shift train predictions for plotting\n",
        "look_back=100\n",
        "trainPredictPlot = numpy.empty_like(df1)\n",
        "trainPredictPlot[:, :] = np.nan\n",
        "trainPredictPlot[look_back:len(train_predict)+look_back, :] = train_predict\n",
        "# shift test predictions for plotting\n",
        "testPredictPlot = numpy.empty_like(df1)\n",
        "testPredictPlot[:, :] = numpy.nan\n",
        "testPredictPlot[len(train_predict)+(look_back*2)+1:len(df1)-1, :] = test_predict\n",
        "# plot baseline and predictions\n",
        "plt.plot(scaler.inverse_transform(df1))\n",
        "plt.plot(trainPredictPlot)\n",
        "plt.plot(testPredictPlot)\n",
        "plt.show()"
      ],
      "execution_count": 32,
      "outputs": [
        {
          "output_type": "display_data",
          "data": {
            "image/png": "[encoded data removed]",
            "text/plain": [
              "<Figure size 432x288 with 1 Axes>"
            ]
          },
          "metadata": {
            "needs_background": "light"
          }
        }
      ]
    },
    {
      "cell_type": "code",
      "metadata": {
        "colab": {
          "base_uri": "https://localhost:8080/"
        },
        "id": "rq2Io52-2wK9",
        "outputId": "b483cdb2-1929-427e-a8c2-d21faef922ab"
      },
      "source": [
        "len(test_data)"
      ],
      "execution_count": 33,
      "outputs": [
        {
          "output_type": "execute_result",
          "data": {
            "text/plain": [
              "441"
            ]
          },
          "metadata": {},
          "execution_count": 33
        }
      ]
    },
    {
      "cell_type": "code",
      "metadata": {
        "colab": {
          "base_uri": "https://localhost:8080/"
        },
        "id": "V1q1AVkQ2zMq",
        "outputId": "e4da8cfe-8217-4687-ced5-f14b67bb1990"
      },
      "source": [
        "x_input = test_data[340:].reshape(1,-1)\n",
        "x_input.shape"
      ],
      "execution_count": 34,
      "outputs": [
        {
          "output_type": "execute_result",
          "data": {
            "text/plain": [
              "(1, 101)"
            ]
          },
          "metadata": {},
          "execution_count": 34
        }
      ]
    },
    {
      "cell_type": "code",
      "metadata": {
        "id": "2I_yGXNK28nt"
      },
      "source": [
        "temp_input = list(x_input)\n",
        "temp_input = temp_input[0].tolist()"
      ],
      "execution_count": 35,
      "outputs": []
    },
    {
      "cell_type": "code",
      "metadata": {
        "id": "ijs_bW4T3HPd",
        "colab": {
          "base_uri": "https://localhost:8080/"
        },
        "outputId": "4115ea9d-8a38-4d26-f2b8-4312bbc24f4b"
      },
      "source": [
        "temp_input"
      ],
      "execution_count": 36,
      "outputs": [
        {
          "output_type": "execute_result",
          "data": {
            "text/plain": [
              "[0.04780458564363854,\n",
              " 0.04740496528298116,\n",
              " 0.05394874868874572,\n",
              " 0.04925320945102157,\n",
              " 0.05342424696538289,\n",
              " 0.05292472151456118,\n",
              " 0.05279984015185574,\n",
              " 0.048878565362905246,\n",
              " 0.047205155102652496,\n",
              " 0.04638093810879668,\n",
              " 0.04832908736700137,\n",
              " 0.04453269394075632,\n",
              " 0.0504021179879115,\n",
              " 0.05042709426045261,\n",
              " 0.0525251011539038,\n",
              " 0.05349917578300617,\n",
              " 0.05095159598381538,\n",
              " 0.05404865377891005,\n",
              " 0.06186622708426992,\n",
              " 0.05976822019081868,\n",
              " 0.061042010090414156,\n",
              " 0.0651381187871522,\n",
              " 0.06181627453918781,\n",
              " 0.06641190868674762,\n",
              " 0.07060792247365,\n",
              " 0.06990858684249962,\n",
              " 0.06918427493880813,\n",
              " 0.06843498676257559,\n",
              " 0.07260602427693691,\n",
              " 0.07647734652080529,\n",
              " 0.07805085169089365,\n",
              " 0.07882511613966736,\n",
              " 0.08554373345321947,\n",
              " 0.09068884559668317,\n",
              " 0.09705779509466006,\n",
              " 0.09373595084669567,\n",
              " 0.09840651381187876,\n",
              " 0.09688296118687245,\n",
              " 0.09973025625655624,\n",
              " 0.10849692791847748,\n",
              " 0.10682351765822468,\n",
              " 0.1016034766971377,\n",
              " 0.09176282531594981,\n",
              " 0.10100404615615166,\n",
              " 0.09913082571557025,\n",
              " 0.1026275038713223,\n",
              " 0.1070233278385534,\n",
              " 0.1080973075578201,\n",
              " 0.10255257505369902,\n",
              " 0.0980818222688446,\n",
              " 0.09973025625655624,\n",
              " 0.10027973425246023,\n",
              " 0.0994305409860633,\n",
              " 0.10402617513362311,\n",
              " 0.10300214795943852,\n",
              " 0.10327688695739051,\n",
              " 0.10097906988361055,\n",
              " 0.10085418852090516,\n",
              " 0.0996303511663919,\n",
              " 0.10027973425246023,\n",
              " 0.10784754483240916,\n",
              " 0.10837204655577198,\n",
              " 0.1134172536090714,\n",
              " 0.11109446026275038,\n",
              " 0.10152854787951449,\n",
              " 0.10237774114591136,\n",
              " 0.10609920575453319,\n",
              " 0.10989559918077829,\n",
              " 0.10967081272790852,\n",
              " 0.10652380238773168,\n",
              " 0.1044757480393626,\n",
              " 0.10712323292871773,\n",
              " 0.1184125081172886,\n",
              " 0.11519056895948854,\n",
              " 0.11688895549228234,\n",
              " 0.11973625056196613,\n",
              " 0.12135970827713677,\n",
              " 0.12732903741445628,\n",
              " 0.12338278635296474,\n",
              " 0.12078525400869172,\n",
              " 0.10804735501273788,\n",
              " 0.10949597882012091,\n",
              " 0.10592437184674564,\n",
              " 0.10819721264798443,\n",
              " 0.10759778210699833,\n",
              " 0.10077925970328189,\n",
              " 0.09298666267046307,\n",
              " 0.09421050002497627,\n",
              " 0.10025475797991906,\n",
              " 0.10270243268894552,\n",
              " 0.10292721914181524,\n",
              " 0.09905589689794697,\n",
              " 0.09041410659873123,\n",
              " 0.09271192367251113,\n",
              " 0.08939007942454669,\n",
              " 0.09226235076677158,\n",
              " 0.08349567910485034,\n",
              " 0.08841600479544437,\n",
              " 0.090638893051601,\n",
              " 0.09386083220940106,\n",
              " 0.09288675758029874]"
            ]
          },
          "metadata": {},
          "execution_count": 36
        }
      ]
    },
    {
      "cell_type": "code",
      "metadata": {
        "id": "AiMs0eRa3Iws",
        "colab": {
          "base_uri": "https://localhost:8080/"
        },
        "outputId": "e5ea08c4-4f7b-4673-9943-e1bb48905b81"
      },
      "source": [
        "# demonstrate prediction for next 10 days\n",
        "from numpy import array\n",
        "\n",
        "lst_output=[]\n",
        "n_steps=100\n",
        "i=0\n",
        "while(i<30):\n",
        "    \n",
        "    if(len(temp_input)>100):\n",
        "        #print(temp_input)\n",
        "        x_input=np.array(temp_input[1:])\n",
        "        print(\"{} day input {}\".format(i,x_input))\n",
        "        x_input=x_input.reshape(1,-1)\n",
        "        x_input = x_input.reshape((1, n_steps, 1))\n",
        "        #print(x_input)\n",
        "        yhat = model.predict(x_input, verbose=0)\n",
        "        print(\"{} day output {}\".format(i,yhat))\n",
        "        temp_input.extend(yhat[0].tolist())\n",
        "        temp_input=temp_input[1:]\n",
        "        #print(temp_input)\n",
        "        lst_output.extend(yhat.tolist())\n",
        "        i=i+1\n",
        "    else:\n",
        "        x_input = x_input.reshape((1, n_steps,1))\n",
        "        yhat = model.predict(x_input, verbose=0)\n",
        "        print(yhat[0])\n",
        "        temp_input.extend(yhat[0].tolist())\n",
        "        print(len(temp_input))\n",
        "        lst_output.extend(yhat.tolist())\n",
        "        i=i+1\n",
        "    \n",
        "\n",
        "print(lst_output)"
      ],
      "execution_count": 37,
      "outputs": [
        {
          "output_type": "stream",
          "name": "stdout",
          "text": [
            "0 day input [0.04740497 0.05394875 0.04925321 0.05342425 0.05292472 0.05279984\n",
            " 0.04887857 0.04720516 0.04638094 0.04832909 0.04453269 0.05040212\n",
            " 0.05042709 0.0525251  0.05349918 0.0509516  0.05404865 0.06186623\n",
            " 0.05976822 0.06104201 0.06513812 0.06181627 0.06641191 0.07060792\n",
            " 0.06990859 0.06918427 0.06843499 0.07260602 0.07647735 0.07805085\n",
            " 0.07882512 0.08554373 0.09068885 0.0970578  0.09373595 0.09840651\n",
            " 0.09688296 0.09973026 0.10849693 0.10682352 0.10160348 0.09176283\n",
            " 0.10100405 0.09913083 0.1026275  0.10702333 0.10809731 0.10255258\n",
            " 0.09808182 0.09973026 0.10027973 0.09943054 0.10402618 0.10300215\n",
            " 0.10327689 0.10097907 0.10085419 0.09963035 0.10027973 0.10784754\n",
            " 0.10837205 0.11341725 0.11109446 0.10152855 0.10237774 0.10609921\n",
            " 0.1098956  0.10967081 0.1065238  0.10447575 0.10712323 0.11841251\n",
            " 0.11519057 0.11688896 0.11973625 0.12135971 0.12732904 0.12338279\n",
            " 0.12078525 0.10804736 0.10949598 0.10592437 0.10819721 0.10759778\n",
            " 0.10077926 0.09298666 0.0942105  0.10025476 0.10270243 0.10292722\n",
            " 0.0990559  0.09041411 0.09271192 0.08939008 0.09226235 0.08349568\n",
            " 0.088416   0.09063889 0.09386083 0.09288676]\n",
            "0 day output [[0.09694609]]\n",
            "1 day input [0.05394875 0.04925321 0.05342425 0.05292472 0.05279984 0.04887857\n",
            " 0.04720516 0.04638094 0.04832909 0.04453269 0.05040212 0.05042709\n",
            " 0.0525251  0.05349918 0.0509516  0.05404865 0.06186623 0.05976822\n",
            " 0.06104201 0.06513812 0.06181627 0.06641191 0.07060792 0.06990859\n",
            " 0.06918427 0.06843499 0.07260602 0.07647735 0.07805085 0.07882512\n",
            " 0.08554373 0.09068885 0.0970578  0.09373595 0.09840651 0.09688296\n",
            " 0.09973026 0.10849693 0.10682352 0.10160348 0.09176283 0.10100405\n",
            " 0.09913083 0.1026275  0.10702333 0.10809731 0.10255258 0.09808182\n",
            " 0.09973026 0.10027973 0.09943054 0.10402618 0.10300215 0.10327689\n",
            " 0.10097907 0.10085419 0.09963035 0.10027973 0.10784754 0.10837205\n",
            " 0.11341725 0.11109446 0.10152855 0.10237774 0.10609921 0.1098956\n",
            " 0.10967081 0.1065238  0.10447575 0.10712323 0.11841251 0.11519057\n",
            " 0.11688896 0.11973625 0.12135971 0.12732904 0.12338279 0.12078525\n",
            " 0.10804736 0.10949598 0.10592437 0.10819721 0.10759778 0.10077926\n",
            " 0.09298666 0.0942105  0.10025476 0.10270243 0.10292722 0.0990559\n",
            " 0.09041411 0.09271192 0.08939008 0.09226235 0.08349568 0.088416\n",
            " 0.09063889 0.09386083 0.09288676 0.09694609]\n",
            "1 day output [[0.09847578]]\n",
            "2 day input [0.04925321 0.05342425 0.05292472 0.05279984 0.04887857 0.04720516\n",
            " 0.04638094 0.04832909 0.04453269 0.05040212 0.05042709 0.0525251\n",
            " 0.05349918 0.0509516  0.05404865 0.06186623 0.05976822 0.06104201\n",
            " 0.06513812 0.06181627 0.06641191 0.07060792 0.06990859 0.06918427\n",
            " 0.06843499 0.07260602 0.07647735 0.07805085 0.07882512 0.08554373\n",
            " 0.09068885 0.0970578  0.09373595 0.09840651 0.09688296 0.09973026\n",
            " 0.10849693 0.10682352 0.10160348 0.09176283 0.10100405 0.09913083\n",
            " 0.1026275  0.10702333 0.10809731 0.10255258 0.09808182 0.09973026\n",
            " 0.10027973 0.09943054 0.10402618 0.10300215 0.10327689 0.10097907\n",
            " 0.10085419 0.09963035 0.10027973 0.10784754 0.10837205 0.11341725\n",
            " 0.11109446 0.10152855 0.10237774 0.10609921 0.1098956  0.10967081\n",
            " 0.1065238  0.10447575 0.10712323 0.11841251 0.11519057 0.11688896\n",
            " 0.11973625 0.12135971 0.12732904 0.12338279 0.12078525 0.10804736\n",
            " 0.10949598 0.10592437 0.10819721 0.10759778 0.10077926 0.09298666\n",
            " 0.0942105  0.10025476 0.10270243 0.10292722 0.0990559  0.09041411\n",
            " 0.09271192 0.08939008 0.09226235 0.08349568 0.088416   0.09063889\n",
            " 0.09386083 0.09288676 0.09694609 0.09847578]\n",
            "2 day output [[0.10052119]]\n",
            "3 day input [0.05342425 0.05292472 0.05279984 0.04887857 0.04720516 0.04638094\n",
            " 0.04832909 0.04453269 0.05040212 0.05042709 0.0525251  0.05349918\n",
            " 0.0509516  0.05404865 0.06186623 0.05976822 0.06104201 0.06513812\n",
            " 0.06181627 0.06641191 0.07060792 0.06990859 0.06918427 0.06843499\n",
            " 0.07260602 0.07647735 0.07805085 0.07882512 0.08554373 0.09068885\n",
            " 0.0970578  0.09373595 0.09840651 0.09688296 0.09973026 0.10849693\n",
            " 0.10682352 0.10160348 0.09176283 0.10100405 0.09913083 0.1026275\n",
            " 0.10702333 0.10809731 0.10255258 0.09808182 0.09973026 0.10027973\n",
            " 0.09943054 0.10402618 0.10300215 0.10327689 0.10097907 0.10085419\n",
            " 0.09963035 0.10027973 0.10784754 0.10837205 0.11341725 0.11109446\n",
            " 0.10152855 0.10237774 0.10609921 0.1098956  0.10967081 0.1065238\n",
            " 0.10447575 0.10712323 0.11841251 0.11519057 0.11688896 0.11973625\n",
            " 0.12135971 0.12732904 0.12338279 0.12078525 0.10804736 0.10949598\n",
            " 0.10592437 0.10819721 0.10759778 0.10077926 0.09298666 0.0942105\n",
            " 0.10025476 0.10270243 0.10292722 0.0990559  0.09041411 0.09271192\n",
            " 0.08939008 0.09226235 0.08349568 0.088416   0.09063889 0.09386083\n",
            " 0.09288676 0.09694609 0.09847578 0.10052119]\n",
            "3 day output [[0.10282847]]\n",
            "4 day input [0.05292472 0.05279984 0.04887857 0.04720516 0.04638094 0.04832909\n",
            " 0.04453269 0.05040212 0.05042709 0.0525251  0.05349918 0.0509516\n",
            " 0.05404865 0.06186623 0.05976822 0.06104201 0.06513812 0.06181627\n",
            " 0.06641191 0.07060792 0.06990859 0.06918427 0.06843499 0.07260602\n",
            " 0.07647735 0.07805085 0.07882512 0.08554373 0.09068885 0.0970578\n",
            " 0.09373595 0.09840651 0.09688296 0.09973026 0.10849693 0.10682352\n",
            " 0.10160348 0.09176283 0.10100405 0.09913083 0.1026275  0.10702333\n",
            " 0.10809731 0.10255258 0.09808182 0.09973026 0.10027973 0.09943054\n",
            " 0.10402618 0.10300215 0.10327689 0.10097907 0.10085419 0.09963035\n",
            " 0.10027973 0.10784754 0.10837205 0.11341725 0.11109446 0.10152855\n",
            " 0.10237774 0.10609921 0.1098956  0.10967081 0.1065238  0.10447575\n",
            " 0.10712323 0.11841251 0.11519057 0.11688896 0.11973625 0.12135971\n",
            " 0.12732904 0.12338279 0.12078525 0.10804736 0.10949598 0.10592437\n",
            " 0.10819721 0.10759778 0.10077926 0.09298666 0.0942105  0.10025476\n",
            " 0.10270243 0.10292722 0.0990559  0.09041411 0.09271192 0.08939008\n",
            " 0.09226235 0.08349568 0.088416   0.09063889 0.09386083 0.09288676\n",
            " 0.09694609 0.09847578 0.10052119 0.10282847]\n",
            "4 day output [[0.10522714]]\n",
            "5 day input [0.05279984 0.04887857 0.04720516 0.04638094 0.04832909 0.04453269\n",
            " 0.05040212 0.05042709 0.0525251  0.05349918 0.0509516  0.05404865\n",
            " 0.06186623 0.05976822 0.06104201 0.06513812 0.06181627 0.06641191\n",
            " 0.07060792 0.06990859 0.06918427 0.06843499 0.07260602 0.07647735\n",
            " 0.07805085 0.07882512 0.08554373 0.09068885 0.0970578  0.09373595\n",
            " 0.09840651 0.09688296 0.09973026 0.10849693 0.10682352 0.10160348\n",
            " 0.09176283 0.10100405 0.09913083 0.1026275  0.10702333 0.10809731\n",
            " 0.10255258 0.09808182 0.09973026 0.10027973 0.09943054 0.10402618\n",
            " 0.10300215 0.10327689 0.10097907 0.10085419 0.09963035 0.10027973\n",
            " 0.10784754 0.10837205 0.11341725 0.11109446 0.10152855 0.10237774\n",
            " 0.10609921 0.1098956  0.10967081 0.1065238  0.10447575 0.10712323\n",
            " 0.11841251 0.11519057 0.11688896 0.11973625 0.12135971 0.12732904\n",
            " 0.12338279 0.12078525 0.10804736 0.10949598 0.10592437 0.10819721\n",
            " 0.10759778 0.10077926 0.09298666 0.0942105  0.10025476 0.10270243\n",
            " 0.10292722 0.0990559  0.09041411 0.09271192 0.08939008 0.09226235\n",
            " 0.08349568 0.088416   0.09063889 0.09386083 0.09288676 0.09694609\n",
            " 0.09847578 0.10052119 0.10282847 0.10522714]\n",
            "5 day output [[0.10762435]]\n",
            "6 day input [0.04887857 0.04720516 0.04638094 0.04832909 0.04453269 0.05040212\n",
            " 0.05042709 0.0525251  0.05349918 0.0509516  0.05404865 0.06186623\n",
            " 0.05976822 0.06104201 0.06513812 0.06181627 0.06641191 0.07060792\n",
            " 0.06990859 0.06918427 0.06843499 0.07260602 0.07647735 0.07805085\n",
            " 0.07882512 0.08554373 0.09068885 0.0970578  0.09373595 0.09840651\n",
            " 0.09688296 0.09973026 0.10849693 0.10682352 0.10160348 0.09176283\n",
            " 0.10100405 0.09913083 0.1026275  0.10702333 0.10809731 0.10255258\n",
            " 0.09808182 0.09973026 0.10027973 0.09943054 0.10402618 0.10300215\n",
            " 0.10327689 0.10097907 0.10085419 0.09963035 0.10027973 0.10784754\n",
            " 0.10837205 0.11341725 0.11109446 0.10152855 0.10237774 0.10609921\n",
            " 0.1098956  0.10967081 0.1065238  0.10447575 0.10712323 0.11841251\n",
            " 0.11519057 0.11688896 0.11973625 0.12135971 0.12732904 0.12338279\n",
            " 0.12078525 0.10804736 0.10949598 0.10592437 0.10819721 0.10759778\n",
            " 0.10077926 0.09298666 0.0942105  0.10025476 0.10270243 0.10292722\n",
            " 0.0990559  0.09041411 0.09271192 0.08939008 0.09226235 0.08349568\n",
            " 0.088416   0.09063889 0.09386083 0.09288676 0.09694609 0.09847578\n",
            " 0.10052119 0.10282847 0.10522714 0.10762435]\n",
            "6 day output [[0.10997922]]\n",
            "7 day input [0.04720516 0.04638094 0.04832909 0.04453269 0.05040212 0.05042709\n",
            " 0.0525251  0.05349918 0.0509516  0.05404865 0.06186623 0.05976822\n",
            " 0.06104201 0.06513812 0.06181627 0.06641191 0.07060792 0.06990859\n",
            " 0.06918427 0.06843499 0.07260602 0.07647735 0.07805085 0.07882512\n",
            " 0.08554373 0.09068885 0.0970578  0.09373595 0.09840651 0.09688296\n",
            " 0.09973026 0.10849693 0.10682352 0.10160348 0.09176283 0.10100405\n",
            " 0.09913083 0.1026275  0.10702333 0.10809731 0.10255258 0.09808182\n",
            " 0.09973026 0.10027973 0.09943054 0.10402618 0.10300215 0.10327689\n",
            " 0.10097907 0.10085419 0.09963035 0.10027973 0.10784754 0.10837205\n",
            " 0.11341725 0.11109446 0.10152855 0.10237774 0.10609921 0.1098956\n",
            " 0.10967081 0.1065238  0.10447575 0.10712323 0.11841251 0.11519057\n",
            " 0.11688896 0.11973625 0.12135971 0.12732904 0.12338279 0.12078525\n",
            " 0.10804736 0.10949598 0.10592437 0.10819721 0.10759778 0.10077926\n",
            " 0.09298666 0.0942105  0.10025476 0.10270243 0.10292722 0.0990559\n",
            " 0.09041411 0.09271192 0.08939008 0.09226235 0.08349568 0.088416\n",
            " 0.09063889 0.09386083 0.09288676 0.09694609 0.09847578 0.10052119\n",
            " 0.10282847 0.10522714 0.10762435 0.10997922]\n",
            "7 day output [[0.11227967]]\n",
            "8 day input [0.04638094 0.04832909 0.04453269 0.05040212 0.05042709 0.0525251\n",
            " 0.05349918 0.0509516  0.05404865 0.06186623 0.05976822 0.06104201\n",
            " 0.06513812 0.06181627 0.06641191 0.07060792 0.06990859 0.06918427\n",
            " 0.06843499 0.07260602 0.07647735 0.07805085 0.07882512 0.08554373\n",
            " 0.09068885 0.0970578  0.09373595 0.09840651 0.09688296 0.09973026\n",
            " 0.10849693 0.10682352 0.10160348 0.09176283 0.10100405 0.09913083\n",
            " 0.1026275  0.10702333 0.10809731 0.10255258 0.09808182 0.09973026\n",
            " 0.10027973 0.09943054 0.10402618 0.10300215 0.10327689 0.10097907\n",
            " 0.10085419 0.09963035 0.10027973 0.10784754 0.10837205 0.11341725\n",
            " 0.11109446 0.10152855 0.10237774 0.10609921 0.1098956  0.10967081\n",
            " 0.1065238  0.10447575 0.10712323 0.11841251 0.11519057 0.11688896\n",
            " 0.11973625 0.12135971 0.12732904 0.12338279 0.12078525 0.10804736\n",
            " 0.10949598 0.10592437 0.10819721 0.10759778 0.10077926 0.09298666\n",
            " 0.0942105  0.10025476 0.10270243 0.10292722 0.0990559  0.09041411\n",
            " 0.09271192 0.08939008 0.09226235 0.08349568 0.088416   0.09063889\n",
            " 0.09386083 0.09288676 0.09694609 0.09847578 0.10052119 0.10282847\n",
            " 0.10522714 0.10762435 0.10997922 0.11227967]\n",
            "8 day output [[0.11452746]]\n",
            "9 day input [0.04832909 0.04453269 0.05040212 0.05042709 0.0525251  0.05349918\n",
            " 0.0509516  0.05404865 0.06186623 0.05976822 0.06104201 0.06513812\n",
            " 0.06181627 0.06641191 0.07060792 0.06990859 0.06918427 0.06843499\n",
            " 0.07260602 0.07647735 0.07805085 0.07882512 0.08554373 0.09068885\n",
            " 0.0970578  0.09373595 0.09840651 0.09688296 0.09973026 0.10849693\n",
            " 0.10682352 0.10160348 0.09176283 0.10100405 0.09913083 0.1026275\n",
            " 0.10702333 0.10809731 0.10255258 0.09808182 0.09973026 0.10027973\n",
            " 0.09943054 0.10402618 0.10300215 0.10327689 0.10097907 0.10085419\n",
            " 0.09963035 0.10027973 0.10784754 0.10837205 0.11341725 0.11109446\n",
            " 0.10152855 0.10237774 0.10609921 0.1098956  0.10967081 0.1065238\n",
            " 0.10447575 0.10712323 0.11841251 0.11519057 0.11688896 0.11973625\n",
            " 0.12135971 0.12732904 0.12338279 0.12078525 0.10804736 0.10949598\n",
            " 0.10592437 0.10819721 0.10759778 0.10077926 0.09298666 0.0942105\n",
            " 0.10025476 0.10270243 0.10292722 0.0990559  0.09041411 0.09271192\n",
            " 0.08939008 0.09226235 0.08349568 0.088416   0.09063889 0.09386083\n",
            " 0.09288676 0.09694609 0.09847578 0.10052119 0.10282847 0.10522714\n",
            " 0.10762435 0.10997922 0.11227967 0.11452746]\n",
            "9 day output [[0.11673031]]\n",
            "10 day input [0.04453269 0.05040212 0.05042709 0.0525251  0.05349918 0.0509516\n",
            " 0.05404865 0.06186623 0.05976822 0.06104201 0.06513812 0.06181627\n",
            " 0.06641191 0.07060792 0.06990859 0.06918427 0.06843499 0.07260602\n",
            " 0.07647735 0.07805085 0.07882512 0.08554373 0.09068885 0.0970578\n",
            " 0.09373595 0.09840651 0.09688296 0.09973026 0.10849693 0.10682352\n",
            " 0.10160348 0.09176283 0.10100405 0.09913083 0.1026275  0.10702333\n",
            " 0.10809731 0.10255258 0.09808182 0.09973026 0.10027973 0.09943054\n",
            " 0.10402618 0.10300215 0.10327689 0.10097907 0.10085419 0.09963035\n",
            " 0.10027973 0.10784754 0.10837205 0.11341725 0.11109446 0.10152855\n",
            " 0.10237774 0.10609921 0.1098956  0.10967081 0.1065238  0.10447575\n",
            " 0.10712323 0.11841251 0.11519057 0.11688896 0.11973625 0.12135971\n",
            " 0.12732904 0.12338279 0.12078525 0.10804736 0.10949598 0.10592437\n",
            " 0.10819721 0.10759778 0.10077926 0.09298666 0.0942105  0.10025476\n",
            " 0.10270243 0.10292722 0.0990559  0.09041411 0.09271192 0.08939008\n",
            " 0.09226235 0.08349568 0.088416   0.09063889 0.09386083 0.09288676\n",
            " 0.09694609 0.09847578 0.10052119 0.10282847 0.10522714 0.10762435\n",
            " 0.10997922 0.11227967 0.11452746 0.11673031]\n",
            "10 day output [[0.11889823]]\n",
            "11 day input [0.05040212 0.05042709 0.0525251  0.05349918 0.0509516  0.05404865\n",
            " 0.06186623 0.05976822 0.06104201 0.06513812 0.06181627 0.06641191\n",
            " 0.07060792 0.06990859 0.06918427 0.06843499 0.07260602 0.07647735\n",
            " 0.07805085 0.07882512 0.08554373 0.09068885 0.0970578  0.09373595\n",
            " 0.09840651 0.09688296 0.09973026 0.10849693 0.10682352 0.10160348\n",
            " 0.09176283 0.10100405 0.09913083 0.1026275  0.10702333 0.10809731\n",
            " 0.10255258 0.09808182 0.09973026 0.10027973 0.09943054 0.10402618\n",
            " 0.10300215 0.10327689 0.10097907 0.10085419 0.09963035 0.10027973\n",
            " 0.10784754 0.10837205 0.11341725 0.11109446 0.10152855 0.10237774\n",
            " 0.10609921 0.1098956  0.10967081 0.1065238  0.10447575 0.10712323\n",
            " 0.11841251 0.11519057 0.11688896 0.11973625 0.12135971 0.12732904\n",
            " 0.12338279 0.12078525 0.10804736 0.10949598 0.10592437 0.10819721\n",
            " 0.10759778 0.10077926 0.09298666 0.0942105  0.10025476 0.10270243\n",
            " 0.10292722 0.0990559  0.09041411 0.09271192 0.08939008 0.09226235\n",
            " 0.08349568 0.088416   0.09063889 0.09386083 0.09288676 0.09694609\n",
            " 0.09847578 0.10052119 0.10282847 0.10522714 0.10762435 0.10997922\n",
            " 0.11227967 0.11452746 0.11673031 0.11889823]\n",
            "11 day output [[0.12104201]]\n",
            "12 day input [0.05042709 0.0525251  0.05349918 0.0509516  0.05404865 0.06186623\n",
            " 0.05976822 0.06104201 0.06513812 0.06181627 0.06641191 0.07060792\n",
            " 0.06990859 0.06918427 0.06843499 0.07260602 0.07647735 0.07805085\n",
            " 0.07882512 0.08554373 0.09068885 0.0970578  0.09373595 0.09840651\n",
            " 0.09688296 0.09973026 0.10849693 0.10682352 0.10160348 0.09176283\n",
            " 0.10100405 0.09913083 0.1026275  0.10702333 0.10809731 0.10255258\n",
            " 0.09808182 0.09973026 0.10027973 0.09943054 0.10402618 0.10300215\n",
            " 0.10327689 0.10097907 0.10085419 0.09963035 0.10027973 0.10784754\n",
            " 0.10837205 0.11341725 0.11109446 0.10152855 0.10237774 0.10609921\n",
            " 0.1098956  0.10967081 0.1065238  0.10447575 0.10712323 0.11841251\n",
            " 0.11519057 0.11688896 0.11973625 0.12135971 0.12732904 0.12338279\n",
            " 0.12078525 0.10804736 0.10949598 0.10592437 0.10819721 0.10759778\n",
            " 0.10077926 0.09298666 0.0942105  0.10025476 0.10270243 0.10292722\n",
            " 0.0990559  0.09041411 0.09271192 0.08939008 0.09226235 0.08349568\n",
            " 0.088416   0.09063889 0.09386083 0.09288676 0.09694609 0.09847578\n",
            " 0.10052119 0.10282847 0.10522714 0.10762435 0.10997922 0.11227967\n",
            " 0.11452746 0.11673031 0.11889823 0.12104201]\n",
            "12 day output [[0.12317245]]\n",
            "13 day input [0.0525251  0.05349918 0.0509516  0.05404865 0.06186623 0.05976822\n",
            " 0.06104201 0.06513812 0.06181627 0.06641191 0.07060792 0.06990859\n",
            " 0.06918427 0.06843499 0.07260602 0.07647735 0.07805085 0.07882512\n",
            " 0.08554373 0.09068885 0.0970578  0.09373595 0.09840651 0.09688296\n",
            " 0.09973026 0.10849693 0.10682352 0.10160348 0.09176283 0.10100405\n",
            " 0.09913083 0.1026275  0.10702333 0.10809731 0.10255258 0.09808182\n",
            " 0.09973026 0.10027973 0.09943054 0.10402618 0.10300215 0.10327689\n",
            " 0.10097907 0.10085419 0.09963035 0.10027973 0.10784754 0.10837205\n",
            " 0.11341725 0.11109446 0.10152855 0.10237774 0.10609921 0.1098956\n",
            " 0.10967081 0.1065238  0.10447575 0.10712323 0.11841251 0.11519057\n",
            " 0.11688896 0.11973625 0.12135971 0.12732904 0.12338279 0.12078525\n",
            " 0.10804736 0.10949598 0.10592437 0.10819721 0.10759778 0.10077926\n",
            " 0.09298666 0.0942105  0.10025476 0.10270243 0.10292722 0.0990559\n",
            " 0.09041411 0.09271192 0.08939008 0.09226235 0.08349568 0.088416\n",
            " 0.09063889 0.09386083 0.09288676 0.09694609 0.09847578 0.10052119\n",
            " 0.10282847 0.10522714 0.10762435 0.10997922 0.11227967 0.11452746\n",
            " 0.11673031 0.11889823 0.12104201 0.12317245]\n",
            "13 day output [[0.12529974]]\n",
            "14 day input [0.05349918 0.0509516  0.05404865 0.06186623 0.05976822 0.06104201\n",
            " 0.06513812 0.06181627 0.06641191 0.07060792 0.06990859 0.06918427\n",
            " 0.06843499 0.07260602 0.07647735 0.07805085 0.07882512 0.08554373\n",
            " 0.09068885 0.0970578  0.09373595 0.09840651 0.09688296 0.09973026\n",
            " 0.10849693 0.10682352 0.10160348 0.09176283 0.10100405 0.09913083\n",
            " 0.1026275  0.10702333 0.10809731 0.10255258 0.09808182 0.09973026\n",
            " 0.10027973 0.09943054 0.10402618 0.10300215 0.10327689 0.10097907\n",
            " 0.10085419 0.09963035 0.10027973 0.10784754 0.10837205 0.11341725\n",
            " 0.11109446 0.10152855 0.10237774 0.10609921 0.1098956  0.10967081\n",
            " 0.1065238  0.10447575 0.10712323 0.11841251 0.11519057 0.11688896\n",
            " 0.11973625 0.12135971 0.12732904 0.12338279 0.12078525 0.10804736\n",
            " 0.10949598 0.10592437 0.10819721 0.10759778 0.10077926 0.09298666\n",
            " 0.0942105  0.10025476 0.10270243 0.10292722 0.0990559  0.09041411\n",
            " 0.09271192 0.08939008 0.09226235 0.08349568 0.088416   0.09063889\n",
            " 0.09386083 0.09288676 0.09694609 0.09847578 0.10052119 0.10282847\n",
            " 0.10522714 0.10762435 0.10997922 0.11227967 0.11452746 0.11673031\n",
            " 0.11889823 0.12104201 0.12317245 0.12529974]\n",
            "14 day output [[0.12743296]]\n",
            "15 day input [0.0509516  0.05404865 0.06186623 0.05976822 0.06104201 0.06513812\n",
            " 0.06181627 0.06641191 0.07060792 0.06990859 0.06918427 0.06843499\n",
            " 0.07260602 0.07647735 0.07805085 0.07882512 0.08554373 0.09068885\n",
            " 0.0970578  0.09373595 0.09840651 0.09688296 0.09973026 0.10849693\n",
            " 0.10682352 0.10160348 0.09176283 0.10100405 0.09913083 0.1026275\n",
            " 0.10702333 0.10809731 0.10255258 0.09808182 0.09973026 0.10027973\n",
            " 0.09943054 0.10402618 0.10300215 0.10327689 0.10097907 0.10085419\n",
            " 0.09963035 0.10027973 0.10784754 0.10837205 0.11341725 0.11109446\n",
            " 0.10152855 0.10237774 0.10609921 0.1098956  0.10967081 0.1065238\n",
            " 0.10447575 0.10712323 0.11841251 0.11519057 0.11688896 0.11973625\n",
            " 0.12135971 0.12732904 0.12338279 0.12078525 0.10804736 0.10949598\n",
            " 0.10592437 0.10819721 0.10759778 0.10077926 0.09298666 0.0942105\n",
            " 0.10025476 0.10270243 0.10292722 0.0990559  0.09041411 0.09271192\n",
            " 0.08939008 0.09226235 0.08349568 0.088416   0.09063889 0.09386083\n",
            " 0.09288676 0.09694609 0.09847578 0.10052119 0.10282847 0.10522714\n",
            " 0.10762435 0.10997922 0.11227967 0.11452746 0.11673031 0.11889823\n",
            " 0.12104201 0.12317245 0.12529974 0.12743296]\n",
            "15 day output [[0.1295798]]\n",
            "16 day input [0.05404865 0.06186623 0.05976822 0.06104201 0.06513812 0.06181627\n",
            " 0.06641191 0.07060792 0.06990859 0.06918427 0.06843499 0.07260602\n",
            " 0.07647735 0.07805085 0.07882512 0.08554373 0.09068885 0.0970578\n",
            " 0.09373595 0.09840651 0.09688296 0.09973026 0.10849693 0.10682352\n",
            " 0.10160348 0.09176283 0.10100405 0.09913083 0.1026275  0.10702333\n",
            " 0.10809731 0.10255258 0.09808182 0.09973026 0.10027973 0.09943054\n",
            " 0.10402618 0.10300215 0.10327689 0.10097907 0.10085419 0.09963035\n",
            " 0.10027973 0.10784754 0.10837205 0.11341725 0.11109446 0.10152855\n",
            " 0.10237774 0.10609921 0.1098956  0.10967081 0.1065238  0.10447575\n",
            " 0.10712323 0.11841251 0.11519057 0.11688896 0.11973625 0.12135971\n",
            " 0.12732904 0.12338279 0.12078525 0.10804736 0.10949598 0.10592437\n",
            " 0.10819721 0.10759778 0.10077926 0.09298666 0.0942105  0.10025476\n",
            " 0.10270243 0.10292722 0.0990559  0.09041411 0.09271192 0.08939008\n",
            " 0.09226235 0.08349568 0.088416   0.09063889 0.09386083 0.09288676\n",
            " 0.09694609 0.09847578 0.10052119 0.10282847 0.10522714 0.10762435\n",
            " 0.10997922 0.11227967 0.11452746 0.11673031 0.11889823 0.12104201\n",
            " 0.12317245 0.12529974 0.12743296 0.1295798 ]\n",
            "16 day output [[0.13174607]]\n",
            "17 day input [0.06186623 0.05976822 0.06104201 0.06513812 0.06181627 0.06641191\n",
            " 0.07060792 0.06990859 0.06918427 0.06843499 0.07260602 0.07647735\n",
            " 0.07805085 0.07882512 0.08554373 0.09068885 0.0970578  0.09373595\n",
            " 0.09840651 0.09688296 0.09973026 0.10849693 0.10682352 0.10160348\n",
            " 0.09176283 0.10100405 0.09913083 0.1026275  0.10702333 0.10809731\n",
            " 0.10255258 0.09808182 0.09973026 0.10027973 0.09943054 0.10402618\n",
            " 0.10300215 0.10327689 0.10097907 0.10085419 0.09963035 0.10027973\n",
            " 0.10784754 0.10837205 0.11341725 0.11109446 0.10152855 0.10237774\n",
            " 0.10609921 0.1098956  0.10967081 0.1065238  0.10447575 0.10712323\n",
            " 0.11841251 0.11519057 0.11688896 0.11973625 0.12135971 0.12732904\n",
            " 0.12338279 0.12078525 0.10804736 0.10949598 0.10592437 0.10819721\n",
            " 0.10759778 0.10077926 0.09298666 0.0942105  0.10025476 0.10270243\n",
            " 0.10292722 0.0990559  0.09041411 0.09271192 0.08939008 0.09226235\n",
            " 0.08349568 0.088416   0.09063889 0.09386083 0.09288676 0.09694609\n",
            " 0.09847578 0.10052119 0.10282847 0.10522714 0.10762435 0.10997922\n",
            " 0.11227967 0.11452746 0.11673031 0.11889823 0.12104201 0.12317245\n",
            " 0.12529974 0.12743296 0.1295798  0.13174607]\n",
            "17 day output [[0.13393585]]\n",
            "18 day input [0.05976822 0.06104201 0.06513812 0.06181627 0.06641191 0.07060792\n",
            " 0.06990859 0.06918427 0.06843499 0.07260602 0.07647735 0.07805085\n",
            " 0.07882512 0.08554373 0.09068885 0.0970578  0.09373595 0.09840651\n",
            " 0.09688296 0.09973026 0.10849693 0.10682352 0.10160348 0.09176283\n",
            " 0.10100405 0.09913083 0.1026275  0.10702333 0.10809731 0.10255258\n",
            " 0.09808182 0.09973026 0.10027973 0.09943054 0.10402618 0.10300215\n",
            " 0.10327689 0.10097907 0.10085419 0.09963035 0.10027973 0.10784754\n",
            " 0.10837205 0.11341725 0.11109446 0.10152855 0.10237774 0.10609921\n",
            " 0.1098956  0.10967081 0.1065238  0.10447575 0.10712323 0.11841251\n",
            " 0.11519057 0.11688896 0.11973625 0.12135971 0.12732904 0.12338279\n",
            " 0.12078525 0.10804736 0.10949598 0.10592437 0.10819721 0.10759778\n",
            " 0.10077926 0.09298666 0.0942105  0.10025476 0.10270243 0.10292722\n",
            " 0.0990559  0.09041411 0.09271192 0.08939008 0.09226235 0.08349568\n",
            " 0.088416   0.09063889 0.09386083 0.09288676 0.09694609 0.09847578\n",
            " 0.10052119 0.10282847 0.10522714 0.10762435 0.10997922 0.11227967\n",
            " 0.11452746 0.11673031 0.11889823 0.12104201 0.12317245 0.12529974\n",
            " 0.12743296 0.1295798  0.13174607 0.13393585]\n",
            "18 day output [[0.13615142]]\n",
            "19 day input [0.06104201 0.06513812 0.06181627 0.06641191 0.07060792 0.06990859\n",
            " 0.06918427 0.06843499 0.07260602 0.07647735 0.07805085 0.07882512\n",
            " 0.08554373 0.09068885 0.0970578  0.09373595 0.09840651 0.09688296\n",
            " 0.09973026 0.10849693 0.10682352 0.10160348 0.09176283 0.10100405\n",
            " 0.09913083 0.1026275  0.10702333 0.10809731 0.10255258 0.09808182\n",
            " 0.09973026 0.10027973 0.09943054 0.10402618 0.10300215 0.10327689\n",
            " 0.10097907 0.10085419 0.09963035 0.10027973 0.10784754 0.10837205\n",
            " 0.11341725 0.11109446 0.10152855 0.10237774 0.10609921 0.1098956\n",
            " 0.10967081 0.1065238  0.10447575 0.10712323 0.11841251 0.11519057\n",
            " 0.11688896 0.11973625 0.12135971 0.12732904 0.12338279 0.12078525\n",
            " 0.10804736 0.10949598 0.10592437 0.10819721 0.10759778 0.10077926\n",
            " 0.09298666 0.0942105  0.10025476 0.10270243 0.10292722 0.0990559\n",
            " 0.09041411 0.09271192 0.08939008 0.09226235 0.08349568 0.088416\n",
            " 0.09063889 0.09386083 0.09288676 0.09694609 0.09847578 0.10052119\n",
            " 0.10282847 0.10522714 0.10762435 0.10997922 0.11227967 0.11452746\n",
            " 0.11673031 0.11889823 0.12104201 0.12317245 0.12529974 0.12743296\n",
            " 0.1295798  0.13174607 0.13393585 0.13615142]\n",
            "19 day output [[0.1383935]]\n",
            "20 day input [0.06513812 0.06181627 0.06641191 0.07060792 0.06990859 0.06918427\n",
            " 0.06843499 0.07260602 0.07647735 0.07805085 0.07882512 0.08554373\n",
            " 0.09068885 0.0970578  0.09373595 0.09840651 0.09688296 0.09973026\n",
            " 0.10849693 0.10682352 0.10160348 0.09176283 0.10100405 0.09913083\n",
            " 0.1026275  0.10702333 0.10809731 0.10255258 0.09808182 0.09973026\n",
            " 0.10027973 0.09943054 0.10402618 0.10300215 0.10327689 0.10097907\n",
            " 0.10085419 0.09963035 0.10027973 0.10784754 0.10837205 0.11341725\n",
            " 0.11109446 0.10152855 0.10237774 0.10609921 0.1098956  0.10967081\n",
            " 0.1065238  0.10447575 0.10712323 0.11841251 0.11519057 0.11688896\n",
            " 0.11973625 0.12135971 0.12732904 0.12338279 0.12078525 0.10804736\n",
            " 0.10949598 0.10592437 0.10819721 0.10759778 0.10077926 0.09298666\n",
            " 0.0942105  0.10025476 0.10270243 0.10292722 0.0990559  0.09041411\n",
            " 0.09271192 0.08939008 0.09226235 0.08349568 0.088416   0.09063889\n",
            " 0.09386083 0.09288676 0.09694609 0.09847578 0.10052119 0.10282847\n",
            " 0.10522714 0.10762435 0.10997922 0.11227967 0.11452746 0.11673031\n",
            " 0.11889823 0.12104201 0.12317245 0.12529974 0.12743296 0.1295798\n",
            " 0.13174607 0.13393585 0.13615142 0.13839351]\n",
            "20 day output [[0.14066146]]\n",
            "21 day input [0.06181627 0.06641191 0.07060792 0.06990859 0.06918427 0.06843499\n",
            " 0.07260602 0.07647735 0.07805085 0.07882512 0.08554373 0.09068885\n",
            " 0.0970578  0.09373595 0.09840651 0.09688296 0.09973026 0.10849693\n",
            " 0.10682352 0.10160348 0.09176283 0.10100405 0.09913083 0.1026275\n",
            " 0.10702333 0.10809731 0.10255258 0.09808182 0.09973026 0.10027973\n",
            " 0.09943054 0.10402618 0.10300215 0.10327689 0.10097907 0.10085419\n",
            " 0.09963035 0.10027973 0.10784754 0.10837205 0.11341725 0.11109446\n",
            " 0.10152855 0.10237774 0.10609921 0.1098956  0.10967081 0.1065238\n",
            " 0.10447575 0.10712323 0.11841251 0.11519057 0.11688896 0.11973625\n",
            " 0.12135971 0.12732904 0.12338279 0.12078525 0.10804736 0.10949598\n",
            " 0.10592437 0.10819721 0.10759778 0.10077926 0.09298666 0.0942105\n",
            " 0.10025476 0.10270243 0.10292722 0.0990559  0.09041411 0.09271192\n",
            " 0.08939008 0.09226235 0.08349568 0.088416   0.09063889 0.09386083\n",
            " 0.09288676 0.09694609 0.09847578 0.10052119 0.10282847 0.10522714\n",
            " 0.10762435 0.10997922 0.11227967 0.11452746 0.11673031 0.11889823\n",
            " 0.12104201 0.12317245 0.12529974 0.12743296 0.1295798  0.13174607\n",
            " 0.13393585 0.13615142 0.13839351 0.14066146]\n",
            "21 day output [[0.14295375]]\n",
            "22 day input [0.06641191 0.07060792 0.06990859 0.06918427 0.06843499 0.07260602\n",
            " 0.07647735 0.07805085 0.07882512 0.08554373 0.09068885 0.0970578\n",
            " 0.09373595 0.09840651 0.09688296 0.09973026 0.10849693 0.10682352\n",
            " 0.10160348 0.09176283 0.10100405 0.09913083 0.1026275  0.10702333\n",
            " 0.10809731 0.10255258 0.09808182 0.09973026 0.10027973 0.09943054\n",
            " 0.10402618 0.10300215 0.10327689 0.10097907 0.10085419 0.09963035\n",
            " 0.10027973 0.10784754 0.10837205 0.11341725 0.11109446 0.10152855\n",
            " 0.10237774 0.10609921 0.1098956  0.10967081 0.1065238  0.10447575\n",
            " 0.10712323 0.11841251 0.11519057 0.11688896 0.11973625 0.12135971\n",
            " 0.12732904 0.12338279 0.12078525 0.10804736 0.10949598 0.10592437\n",
            " 0.10819721 0.10759778 0.10077926 0.09298666 0.0942105  0.10025476\n",
            " 0.10270243 0.10292722 0.0990559  0.09041411 0.09271192 0.08939008\n",
            " 0.09226235 0.08349568 0.088416   0.09063889 0.09386083 0.09288676\n",
            " 0.09694609 0.09847578 0.10052119 0.10282847 0.10522714 0.10762435\n",
            " 0.10997922 0.11227967 0.11452746 0.11673031 0.11889823 0.12104201\n",
            " 0.12317245 0.12529974 0.12743296 0.1295798  0.13174607 0.13393585\n",
            " 0.13615142 0.13839351 0.14066146 0.14295375]\n",
            "22 day output [[0.14526814]]\n",
            "23 day input [0.07060792 0.06990859 0.06918427 0.06843499 0.07260602 0.07647735\n",
            " 0.07805085 0.07882512 0.08554373 0.09068885 0.0970578  0.09373595\n",
            " 0.09840651 0.09688296 0.09973026 0.10849693 0.10682352 0.10160348\n",
            " 0.09176283 0.10100405 0.09913083 0.1026275  0.10702333 0.10809731\n",
            " 0.10255258 0.09808182 0.09973026 0.10027973 0.09943054 0.10402618\n",
            " 0.10300215 0.10327689 0.10097907 0.10085419 0.09963035 0.10027973\n",
            " 0.10784754 0.10837205 0.11341725 0.11109446 0.10152855 0.10237774\n",
            " 0.10609921 0.1098956  0.10967081 0.1065238  0.10447575 0.10712323\n",
            " 0.11841251 0.11519057 0.11688896 0.11973625 0.12135971 0.12732904\n",
            " 0.12338279 0.12078525 0.10804736 0.10949598 0.10592437 0.10819721\n",
            " 0.10759778 0.10077926 0.09298666 0.0942105  0.10025476 0.10270243\n",
            " 0.10292722 0.0990559  0.09041411 0.09271192 0.08939008 0.09226235\n",
            " 0.08349568 0.088416   0.09063889 0.09386083 0.09288676 0.09694609\n",
            " 0.09847578 0.10052119 0.10282847 0.10522714 0.10762435 0.10997922\n",
            " 0.11227967 0.11452746 0.11673031 0.11889823 0.12104201 0.12317245\n",
            " 0.12529974 0.12743296 0.1295798  0.13174607 0.13393585 0.13615142\n",
            " 0.13839351 0.14066146 0.14295375 0.14526814]\n",
            "23 day output [[0.14760214]]\n",
            "24 day input [0.06990859 0.06918427 0.06843499 0.07260602 0.07647735 0.07805085\n",
            " 0.07882512 0.08554373 0.09068885 0.0970578  0.09373595 0.09840651\n",
            " 0.09688296 0.09973026 0.10849693 0.10682352 0.10160348 0.09176283\n",
            " 0.10100405 0.09913083 0.1026275  0.10702333 0.10809731 0.10255258\n",
            " 0.09808182 0.09973026 0.10027973 0.09943054 0.10402618 0.10300215\n",
            " 0.10327689 0.10097907 0.10085419 0.09963035 0.10027973 0.10784754\n",
            " 0.10837205 0.11341725 0.11109446 0.10152855 0.10237774 0.10609921\n",
            " 0.1098956  0.10967081 0.1065238  0.10447575 0.10712323 0.11841251\n",
            " 0.11519057 0.11688896 0.11973625 0.12135971 0.12732904 0.12338279\n",
            " 0.12078525 0.10804736 0.10949598 0.10592437 0.10819721 0.10759778\n",
            " 0.10077926 0.09298666 0.0942105  0.10025476 0.10270243 0.10292722\n",
            " 0.0990559  0.09041411 0.09271192 0.08939008 0.09226235 0.08349568\n",
            " 0.088416   0.09063889 0.09386083 0.09288676 0.09694609 0.09847578\n",
            " 0.10052119 0.10282847 0.10522714 0.10762435 0.10997922 0.11227967\n",
            " 0.11452746 0.11673031 0.11889823 0.12104201 0.12317245 0.12529974\n",
            " 0.12743296 0.1295798  0.13174607 0.13393585 0.13615142 0.13839351\n",
            " 0.14066146 0.14295375 0.14526814 0.14760214]\n",
            "24 day output [[0.14995301]]\n",
            "25 day input [0.06918427 0.06843499 0.07260602 0.07647735 0.07805085 0.07882512\n",
            " 0.08554373 0.09068885 0.0970578  0.09373595 0.09840651 0.09688296\n",
            " 0.09973026 0.10849693 0.10682352 0.10160348 0.09176283 0.10100405\n",
            " 0.09913083 0.1026275  0.10702333 0.10809731 0.10255258 0.09808182\n",
            " 0.09973026 0.10027973 0.09943054 0.10402618 0.10300215 0.10327689\n",
            " 0.10097907 0.10085419 0.09963035 0.10027973 0.10784754 0.10837205\n",
            " 0.11341725 0.11109446 0.10152855 0.10237774 0.10609921 0.1098956\n",
            " 0.10967081 0.1065238  0.10447575 0.10712323 0.11841251 0.11519057\n",
            " 0.11688896 0.11973625 0.12135971 0.12732904 0.12338279 0.12078525\n",
            " 0.10804736 0.10949598 0.10592437 0.10819721 0.10759778 0.10077926\n",
            " 0.09298666 0.0942105  0.10025476 0.10270243 0.10292722 0.0990559\n",
            " 0.09041411 0.09271192 0.08939008 0.09226235 0.08349568 0.088416\n",
            " 0.09063889 0.09386083 0.09288676 0.09694609 0.09847578 0.10052119\n",
            " 0.10282847 0.10522714 0.10762435 0.10997922 0.11227967 0.11452746\n",
            " 0.11673031 0.11889823 0.12104201 0.12317245 0.12529974 0.12743296\n",
            " 0.1295798  0.13174607 0.13393585 0.13615142 0.13839351 0.14066146\n",
            " 0.14295375 0.14526814 0.14760214 0.14995301]\n",
            "25 day output [[0.15231833]]\n",
            "26 day input [0.06843499 0.07260602 0.07647735 0.07805085 0.07882512 0.08554373\n",
            " 0.09068885 0.0970578  0.09373595 0.09840651 0.09688296 0.09973026\n",
            " 0.10849693 0.10682352 0.10160348 0.09176283 0.10100405 0.09913083\n",
            " 0.1026275  0.10702333 0.10809731 0.10255258 0.09808182 0.09973026\n",
            " 0.10027973 0.09943054 0.10402618 0.10300215 0.10327689 0.10097907\n",
            " 0.10085419 0.09963035 0.10027973 0.10784754 0.10837205 0.11341725\n",
            " 0.11109446 0.10152855 0.10237774 0.10609921 0.1098956  0.10967081\n",
            " 0.1065238  0.10447575 0.10712323 0.11841251 0.11519057 0.11688896\n",
            " 0.11973625 0.12135971 0.12732904 0.12338279 0.12078525 0.10804736\n",
            " 0.10949598 0.10592437 0.10819721 0.10759778 0.10077926 0.09298666\n",
            " 0.0942105  0.10025476 0.10270243 0.10292722 0.0990559  0.09041411\n",
            " 0.09271192 0.08939008 0.09226235 0.08349568 0.088416   0.09063889\n",
            " 0.09386083 0.09288676 0.09694609 0.09847578 0.10052119 0.10282847\n",
            " 0.10522714 0.10762435 0.10997922 0.11227967 0.11452746 0.11673031\n",
            " 0.11889823 0.12104201 0.12317245 0.12529974 0.12743296 0.1295798\n",
            " 0.13174607 0.13393585 0.13615142 0.13839351 0.14066146 0.14295375\n",
            " 0.14526814 0.14760214 0.14995301 0.15231833]\n",
            "26 day output [[0.15469596]]\n",
            "27 day input [0.07260602 0.07647735 0.07805085 0.07882512 0.08554373 0.09068885\n",
            " 0.0970578  0.09373595 0.09840651 0.09688296 0.09973026 0.10849693\n",
            " 0.10682352 0.10160348 0.09176283 0.10100405 0.09913083 0.1026275\n",
            " 0.10702333 0.10809731 0.10255258 0.09808182 0.09973026 0.10027973\n",
            " 0.09943054 0.10402618 0.10300215 0.10327689 0.10097907 0.10085419\n",
            " 0.09963035 0.10027973 0.10784754 0.10837205 0.11341725 0.11109446\n",
            " 0.10152855 0.10237774 0.10609921 0.1098956  0.10967081 0.1065238\n",
            " 0.10447575 0.10712323 0.11841251 0.11519057 0.11688896 0.11973625\n",
            " 0.12135971 0.12732904 0.12338279 0.12078525 0.10804736 0.10949598\n",
            " 0.10592437 0.10819721 0.10759778 0.10077926 0.09298666 0.0942105\n",
            " 0.10025476 0.10270243 0.10292722 0.0990559  0.09041411 0.09271192\n",
            " 0.08939008 0.09226235 0.08349568 0.088416   0.09063889 0.09386083\n",
            " 0.09288676 0.09694609 0.09847578 0.10052119 0.10282847 0.10522714\n",
            " 0.10762435 0.10997922 0.11227967 0.11452746 0.11673031 0.11889823\n",
            " 0.12104201 0.12317245 0.12529974 0.12743296 0.1295798  0.13174607\n",
            " 0.13393585 0.13615142 0.13839351 0.14066146 0.14295375 0.14526814\n",
            " 0.14760214 0.14995301 0.15231833 0.15469596]\n",
            "27 day output [[0.15708418]]\n",
            "28 day input [0.07647735 0.07805085 0.07882512 0.08554373 0.09068885 0.0970578\n",
            " 0.09373595 0.09840651 0.09688296 0.09973026 0.10849693 0.10682352\n",
            " 0.10160348 0.09176283 0.10100405 0.09913083 0.1026275  0.10702333\n",
            " 0.10809731 0.10255258 0.09808182 0.09973026 0.10027973 0.09943054\n",
            " 0.10402618 0.10300215 0.10327689 0.10097907 0.10085419 0.09963035\n",
            " 0.10027973 0.10784754 0.10837205 0.11341725 0.11109446 0.10152855\n",
            " 0.10237774 0.10609921 0.1098956  0.10967081 0.1065238  0.10447575\n",
            " 0.10712323 0.11841251 0.11519057 0.11688896 0.11973625 0.12135971\n",
            " 0.12732904 0.12338279 0.12078525 0.10804736 0.10949598 0.10592437\n",
            " 0.10819721 0.10759778 0.10077926 0.09298666 0.0942105  0.10025476\n",
            " 0.10270243 0.10292722 0.0990559  0.09041411 0.09271192 0.08939008\n",
            " 0.09226235 0.08349568 0.088416   0.09063889 0.09386083 0.09288676\n",
            " 0.09694609 0.09847578 0.10052119 0.10282847 0.10522714 0.10762435\n",
            " 0.10997922 0.11227967 0.11452746 0.11673031 0.11889823 0.12104201\n",
            " 0.12317245 0.12529974 0.12743296 0.1295798  0.13174607 0.13393585\n",
            " 0.13615142 0.13839351 0.14066146 0.14295375 0.14526814 0.14760214\n",
            " 0.14995301 0.15231833 0.15469596 0.15708418]\n",
            "28 day output [[0.15948167]]\n",
            "29 day input [0.07805085 0.07882512 0.08554373 0.09068885 0.0970578  0.09373595\n",
            " 0.09840651 0.09688296 0.09973026 0.10849693 0.10682352 0.10160348\n",
            " 0.09176283 0.10100405 0.09913083 0.1026275  0.10702333 0.10809731\n",
            " 0.10255258 0.09808182 0.09973026 0.10027973 0.09943054 0.10402618\n",
            " 0.10300215 0.10327689 0.10097907 0.10085419 0.09963035 0.10027973\n",
            " 0.10784754 0.10837205 0.11341725 0.11109446 0.10152855 0.10237774\n",
            " 0.10609921 0.1098956  0.10967081 0.1065238  0.10447575 0.10712323\n",
            " 0.11841251 0.11519057 0.11688896 0.11973625 0.12135971 0.12732904\n",
            " 0.12338279 0.12078525 0.10804736 0.10949598 0.10592437 0.10819721\n",
            " 0.10759778 0.10077926 0.09298666 0.0942105  0.10025476 0.10270243\n",
            " 0.10292722 0.0990559  0.09041411 0.09271192 0.08939008 0.09226235\n",
            " 0.08349568 0.088416   0.09063889 0.09386083 0.09288676 0.09694609\n",
            " 0.09847578 0.10052119 0.10282847 0.10522714 0.10762435 0.10997922\n",
            " 0.11227967 0.11452746 0.11673031 0.11889823 0.12104201 0.12317245\n",
            " 0.12529974 0.12743296 0.1295798  0.13174607 0.13393585 0.13615142\n",
            " 0.13839351 0.14066146 0.14295375 0.14526814 0.14760214 0.14995301\n",
            " 0.15231833 0.15469596 0.15708418 0.15948167]\n",
            "29 day output [[0.16188774]]\n",
            "[[0.09694609045982361], [0.09847578406333923], [0.10052119195461273], [0.10282847285270691], [0.10522713512182236], [0.107624351978302], [0.10997921973466873], [0.11227966845035553], [0.11452746391296387], [0.11673031002283096], [0.11889822781085968], [0.12104201316833496], [0.12317245453596115], [0.12529973685741425], [0.1274329572916031], [0.1295797973871231], [0.1317460685968399], [0.1339358538389206], [0.13615141808986664], [0.13839350640773773], [0.14066146314144135], [0.1429537534713745], [0.14526814222335815], [0.1476021409034729], [0.14995300769805908], [0.1523183286190033], [0.15469595789909363], [0.15708418190479279], [0.15948167443275452], [0.1618877351284027]]\n"
          ]
        }
      ]
    },
    {
      "cell_type": "code",
      "metadata": {
        "id": "4h8iqat_3MZk"
      },
      "source": [
        "day_new = np.arange(1, 101)\n",
        "day_pred = np.arange(101, 131)"
      ],
      "execution_count": 38,
      "outputs": []
    },
    {
      "cell_type": "code",
      "metadata": {
        "id": "H_4ZPqc93Vrc"
      },
      "source": [
        "import matplotlib.pyplot as plt"
      ],
      "execution_count": 39,
      "outputs": []
    },
    {
      "cell_type": "code",
      "metadata": {
        "colab": {
          "base_uri": "https://localhost:8080/"
        },
        "id": "0ADk2I2W3ax1",
        "outputId": "c49760d8-7c0e-4174-d4c8-ab96370c13b6"
      },
      "source": [
        "len(df1)"
      ],
      "execution_count": 40,
      "outputs": [
        {
          "output_type": "execute_result",
          "data": {
            "text/plain": [
              "1258"
            ]
          },
          "metadata": {},
          "execution_count": 40
        }
      ]
    },
    {
      "cell_type": "code",
      "metadata": {
        "colab": {
          "base_uri": "https://localhost:8080/",
          "height": 283
        },
        "id": "sUjLPlHK3cC8",
        "outputId": "fd30d709-ca40-4259-95fc-0eeb2bbc7d35"
      },
      "source": [
        "plt.plot(day_new, scaler.inverse_transform(df1[1158:]))\n",
        "plt.plot(day_pred, scaler.inverse_transform(lst_output))"
      ],
      "execution_count": 42,
      "outputs": [
        {
          "output_type": "execute_result",
          "data": {
            "text/plain": [
              "[<matplotlib.lines.Line2D at 0x7f04cc539110>]"
            ]
          },
          "metadata": {},
          "execution_count": 42
        },
        {
          "output_type": "display_data",
          "data": {
            "image/png": "[encoded data removed]",
            "text/plain": [
              "<Figure size 432x288 with 1 Axes>"
            ]
          },
          "metadata": {
            "needs_background": "light"
          }
        }
      ]
    },
    {
      "cell_type": "code",
      "metadata": {
        "colab": {
          "base_uri": "https://localhost:8080/",
          "height": 283
        },
        "id": "0DB9iWlu80e_",
        "outputId": "38b8eea1-19c8-4d74-8891-52c83882b3ac"
      },
      "source": [
        "df3=df1.tolist()\n",
        "df3.extend(lst_output)\n",
        "plt.plot(df3[1200:])"
      ],
      "execution_count": 43,
      "outputs": [
        {
          "output_type": "execute_result",
          "data": {
            "text/plain": [
              "[<matplotlib.lines.Line2D at 0x7f04cc524a10>]"
            ]
          },
          "metadata": {},
          "execution_count": 43
        },
        {
          "output_type": "display_data",
          "data": {
            "image/png": "[encoded data removed]",
            "text/plain": [
              "<Figure size 432x288 with 1 Axes>"
            ]
          },
          "metadata": {
            "needs_background": "light"
          }
        }
      ]
    },
    {
      "cell_type": "code",
      "metadata": {
        "id": "lkI1bbH_838D"
      },
      "source": [
        "df3=scaler.inverse_transform(df3).tolist()"
      ],
      "execution_count": 44,
      "outputs": []
    },
    {
      "cell_type": "code",
      "metadata": {
        "colab": {
          "base_uri": "https://localhost:8080/",
          "height": 283
        },
        "id": "Adwlbror88RH",
        "outputId": "4449812a-632f-4be3-9afd-842d7392b847"
      },
      "source": [
        "plt.plot(df3)"
      ],
      "execution_count": 45,
      "outputs": [
        {
          "output_type": "execute_result",
          "data": {
            "text/plain": [
              "[<matplotlib.lines.Line2D at 0x7f04cc086d50>]"
            ]
          },
          "metadata": {},
          "execution_count": 45
        },
        {
          "output_type": "display_data",
          "data": {
            "image/png": "[encoded data removed]",
            "text/plain": [
              "<Figure size 432x288 with 1 Axes>"
            ]
          },
          "metadata": {
            "needs_background": "light"
          }
        }
      ]
    }
  ]
}